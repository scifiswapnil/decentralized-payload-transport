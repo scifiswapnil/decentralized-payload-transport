{
 "cells": [
  {
   "cell_type": "code",
   "execution_count": 1,
   "id": "2decc71e",
   "metadata": {},
   "outputs": [],
   "source": [
    "import matplotlib.pyplot as plt\n",
    "import matplotlib.patches as patches\n",
    "from matplotlib.patches import Polygon\n",
    "from scipy.ndimage.morphology import distance_transform_edt as bwdist\n",
    "from geometry_msgs.msg import PoseStamped\n",
    "import math\n",
    "import random as rand\n",
    "import numpy as np\n",
    "from numpy.linalg import norm\n",
    "from math import *\n",
    "from random import random\n",
    "from scipy.spatial import ConvexHull\n",
    "from matplotlib import path\n",
    "import time\n",
    "from PIL import Image\n",
    "import cv2 \n",
    "from nav_msgs.msg import Path\n",
    "from scipy import interpolate"
   ]
  },
  {
   "cell_type": "markdown",
   "id": "50200e0b",
   "metadata": {},
   "source": [
    "Helper Functions"
   ]
  },
  {
   "cell_type": "code",
   "execution_count": 2,
   "id": "878a77e2",
   "metadata": {},
   "outputs": [],
   "source": [
    "def meters2grid(pose_m):\n",
    "    if np.isscalar(pose_m):\n",
    "        print(\"meters2grid scalar version used\")\n",
    "        pose_on_grid = int( pose_m / map_res + map_org_x )\n",
    "    else:\n",
    "        pose_on_grid = np.array((np.array(pose_m) - [map_org_x, -map_org_y])/ map_res, dtype=int)\n",
    "    pose_on_grid[1] = -map_org_y - pose_on_grid[1] \n",
    "    return pose_on_grid\n",
    "\n",
    "def grid2meters(pose_grid):\n",
    "    if np.isscalar(pose_grid):\n",
    "        pose_meters = (pose_grid * map_res + map_org_x)\n",
    "        print(\"grid2meters scalar version used\")\n",
    "    else:\n",
    "        pose_meters = ( np.array(pose_grid)* map_res + np.array([map_org_x,map_org_y]) )\n",
    "    pose_meters[:,1] = -pose_meters[:,1]\n",
    "    return pose_meters"
   ]
  },
  {
   "cell_type": "markdown",
   "id": "674d282f",
   "metadata": {},
   "source": [
    "RRT path planner"
   ]
  },
  {
   "cell_type": "code",
   "execution_count": 3,
   "id": "88d79b26",
   "metadata": {},
   "outputs": [],
   "source": [
    "class RRT:\n",
    "    \"\"\"\n",
    "    Class for RRT planning\n",
    "    \"\"\"\n",
    "\n",
    "    class Node:\n",
    "        \"\"\"\n",
    "        RRT Node\n",
    "        \"\"\"\n",
    "\n",
    "        def __init__(self, x, y):\n",
    "            self.x = x\n",
    "            self.y = y\n",
    "            self.path_x = []\n",
    "            self.path_y = []\n",
    "            self.parent = None\n",
    "\n",
    "    def __init__(self,\n",
    "                 start,\n",
    "                 goal,\n",
    "                 map_grid,\n",
    "                 rand_area,\n",
    "                 expand_dis=100,\n",
    "                 path_resolution=10,\n",
    "                 goal_sample_rate=5,\n",
    "                 max_iter=5900):\n",
    "        \"\"\"\n",
    "        Setting Parameter\n",
    "\n",
    "        start:Start Position [x,y]\n",
    "        goal:Goal Position [x,y]\n",
    "        obstacleList:obstacle Positions [[x,y,size],...]\n",
    "        randArea:Random Sampling Area [min,max]\n",
    "\n",
    "        \"\"\"\n",
    "        self.start = self.Node(start[0], start[1])\n",
    "        self.end = self.Node(goal[0], goal[1])\n",
    "        self.min_rand = rand_area[0]\n",
    "        self.max_rand = rand_area[1]\n",
    "        self.expand_dis = expand_dis\n",
    "        self.path_resolution = path_resolution\n",
    "        self.goal_sample_rate = goal_sample_rate#\n",
    "        self.grid_map = map_grid\n",
    "        self.max_iter = max_iter\n",
    "        self.node_list = []\n",
    "\n",
    "    def planning(self, animation=True):\n",
    "        \"\"\"\n",
    "        rrt path planning\n",
    "\n",
    "        animation: flag for animation on or off\n",
    "        \"\"\"\n",
    "\n",
    "        self.node_list = [self.start]\n",
    "        for i in range(self.max_iter):\n",
    "            rnd_node = self.get_random_node()\n",
    "            nearest_ind = self.get_nearest_node_index(self.node_list, rnd_node)\n",
    "            nearest_node = self.node_list[nearest_ind]\n",
    "\n",
    "            new_node = self.steer(nearest_node, rnd_node, self.expand_dis)\n",
    "\n",
    "            if self.check_collision(new_node,self.grid_map):\n",
    "                self.node_list.append(new_node)\n",
    "\n",
    "            if animation and i % 5 == 0:\n",
    "                self.draw_graph(rnd_node)\n",
    "\n",
    "            if self.calc_dist_to_goal(self.node_list[-1].x,\n",
    "                                      self.node_list[-1].y) <= self.expand_dis:\n",
    "                final_node = self.steer(self.node_list[-1], self.end,\n",
    "                                        self.expand_dis)\n",
    "                if self.check_collision(final_node,self.grid_map):\n",
    "                    return self.generate_final_course(len(self.node_list) - 1)\n",
    "\n",
    "            if animation and i % 5:\n",
    "                self.draw_graph(rnd_node)\n",
    "\n",
    "        return None  # cannot find path\n",
    "\n",
    "    def steer(self, from_node, to_node, extend_length=float(\"inf\")):\n",
    "\n",
    "        new_node = self.Node(from_node.x, from_node.y)\n",
    "        d, theta = self.calc_distance_and_angle(new_node, to_node)\n",
    "\n",
    "        new_node.path_x = [new_node.x]\n",
    "        new_node.path_y = [new_node.y]\n",
    "\n",
    "        if extend_length > d:\n",
    "            extend_length = d\n",
    "\n",
    "        n_expand = math.floor(extend_length / self.path_resolution)\n",
    "\n",
    "        for _ in range(n_expand):\n",
    "            new_node.x += self.path_resolution * math.cos(theta)\n",
    "            new_node.y += self.path_resolution * math.sin(theta)\n",
    "            new_node.path_x.append(new_node.x)\n",
    "            new_node.path_y.append(new_node.y)\n",
    "\n",
    "        d, _ = self.calc_distance_and_angle(new_node, to_node)\n",
    "        if d <= self.path_resolution:\n",
    "            new_node.path_x.append(to_node.x)\n",
    "            new_node.path_y.append(to_node.y)\n",
    "            new_node.x = to_node.x\n",
    "            new_node.y = to_node.y\n",
    "\n",
    "        new_node.parent = from_node\n",
    "\n",
    "        return new_node\n",
    "\n",
    "    def generate_final_course(self, goal_ind):\n",
    "        path = [[self.end.x, self.end.y]]\n",
    "        node = self.node_list[goal_ind]\n",
    "        while node.parent is not None:\n",
    "            path.append([node.x, node.y])\n",
    "            node = node.parent\n",
    "        path.append([node.x, node.y])\n",
    "\n",
    "        return path\n",
    "\n",
    "    def calc_dist_to_goal(self, x, y):\n",
    "        dx = x - self.end.x\n",
    "        dy = y - self.end.y\n",
    "        return math.hypot(dx, dy)\n",
    "\n",
    "    def get_random_node(self):\n",
    "        if rand.randint(0, 10) > self.goal_sample_rate:\n",
    "            rnd = self.Node(\n",
    "                int(rand.uniform(self.min_rand, self.max_rand)),\n",
    "                int(rand.uniform(self.min_rand, self.max_rand)))\n",
    "        else: \n",
    "            rnd = self.Node(self.end.x, self.end.y)\n",
    "        return rnd\n",
    "\n",
    "    def draw_graph(self, drawthis, rnd=None):\n",
    "        plt.figure(figsize=(5,5))\n",
    "        plt.clf()\n",
    "        plt.gcf().canvas.mpl_connect(\n",
    "            'key_release_event',\n",
    "            lambda event: [exit(0) if event.key == 'escape' else None])\n",
    "        if rnd is not None:\n",
    "            plt.plot(rnd.x, rnd.y, \"^k\")\n",
    "        for node in self.node_list:\n",
    "            if node.parent:\n",
    "                plt.plot(node.path_x, node.path_y, \"-g\")\n",
    "\n",
    "        plt.imshow(drawthis)\n",
    "        plt.plot(self.start.x, self.start.y, \"xr\")\n",
    "        plt.plot(self.end.x, self.end.y, \"xr\")\n",
    "        plt.axis(\"equal\")\n",
    "        plt.grid(True)\n",
    "        plt.pause(0.0001)\n",
    "\n",
    "    @staticmethod\n",
    "    def get_nearest_node_index(node_list, rnd_node):\n",
    "        dlist = [(node.x - rnd_node.x)**2 + (node.y - rnd_node.y)**2\n",
    "                 for node in node_list]\n",
    "        minind = dlist.index(min(dlist))\n",
    "\n",
    "        return minind\n",
    "\n",
    "    @staticmethod\n",
    "    def check_collision(node,grid_map):\n",
    "        if node is None:\n",
    "            return False\n",
    "        if (grid_map[int(node.y),int(node.x)] != 0.0):\n",
    "            return True\n",
    "        else:\n",
    "            return False\n",
    "\n",
    "\n",
    "    @staticmethod\n",
    "    def calc_distance_and_angle(from_node, to_node):\n",
    "        dx = to_node.x - from_node.x\n",
    "        dy = to_node.y - from_node.y\n",
    "        d = math.hypot(dx, dy)\n",
    "        theta = math.atan2(dy, dx)\n",
    "        return d, theta"
   ]
  },
  {
   "cell_type": "code",
   "execution_count": 4,
   "id": "5987f20e",
   "metadata": {},
   "outputs": [],
   "source": [
    "def get_line(x1, y1, x2, y2):\n",
    "    x1 = int(x1)\n",
    "    y1 = int(y1)\n",
    "    x2 = int(x2)\n",
    "    y2 = int(y2)\n",
    "    points = []\n",
    "    issteep = abs(y2-y1) > abs(x2-x1)\n",
    "    if issteep:\n",
    "        x1, y1 = y1, x1\n",
    "        x2, y2 = y2, x2\n",
    "    rev = False\n",
    "    if x1 > x2:\n",
    "        x1, x2 = x2, x1\n",
    "        y1, y2 = y2, y1\n",
    "        rev = True\n",
    "    deltax = x2 - x1\n",
    "    deltay = abs(y2-y1)\n",
    "    error = int(deltax / 2)\n",
    "    y = y1\n",
    "    ystep = None\n",
    "    if y1 < y2:\n",
    "        ystep = 1\n",
    "    else:\n",
    "        ystep = -1\n",
    "    for x in range(x1, x2 + 1):\n",
    "        if issteep:\n",
    "            points.append((y, x))\n",
    "        else:\n",
    "            points.append((x, y))\n",
    "        error -= deltay\n",
    "        if error < 0:\n",
    "            y += ystep\n",
    "            error += deltax\n",
    "    # Reverse the list if the coordinates were reversed\n",
    "    if rev:\n",
    "        points.reverse()\n",
    "    return points\n",
    "\n",
    "def path_smoothing(path):\n",
    "    current_point = 0 \n",
    "    smoothedpath = []\n",
    "    smoothedpath.append([path[0][0],path[0][1]])\n",
    "    while (current_point <= len(path)):\n",
    "        org_current_point = current_point\n",
    "        for j in range(current_point,len(path)):\n",
    "            point_lists = get_line(path[current_point][0],path[current_point][1],path[j][0],path[j][1])\n",
    "            a = 0\n",
    "            for i in range(len(point_lists)):\n",
    "                if (mapdata[point_lists[i][1],point_lists[i][0]] == 0.0):\n",
    "                    a = 1\n",
    "                    current_point = j\n",
    "                    smoothedpath.append([path[current_point][0],path[current_point][1]])\n",
    "                    break\n",
    "            if (a == 1):\n",
    "                break\n",
    "        if (org_current_point == current_point):\n",
    "            break\n",
    "    smoothedpath.append([path[-1][0],path[-1][1]])\n",
    "    return smoothedpath"
   ]
  },
  {
   "cell_type": "markdown",
   "id": "63c89973",
   "metadata": {},
   "source": [
    "ROS Code"
   ]
  },
  {
   "cell_type": "code",
   "execution_count": 5,
   "id": "63410f51",
   "metadata": {
    "scrolled": false
   },
   "outputs": [
    {
     "data": {
      "text/plain": [
       "<rospy.topics.Subscriber at 0x7fe64f068730>"
      ]
     },
     "execution_count": 5,
     "metadata": {},
     "output_type": "execute_result"
    },
    {
     "data": {
      "image/png": "[encoded data removed]",
      "text/plain": [
       "<Figure size 360x360 with 1 Axes>"
      ]
     },
     "metadata": {
      "needs_background": "light"
     },
     "output_type": "display_data"
    },
    {
     "name": "stdout",
     "output_type": "stream",
     "text": [
      "done goal\n"
     ]
    },
    {
     "data": {
      "image/png": "[encoded data removed]",
      "text/plain": [
       "<Figure size 360x360 with 1 Axes>"
      ]
     },
     "metadata": {
      "needs_background": "light"
     },
     "output_type": "display_data"
    },
    {
     "name": "stdout",
     "output_type": "stream",
     "text": [
      "found path!!\n",
      "done goal\n"
     ]
    },
    {
     "data": {
      "image/png": "[encoded data removed]",
      "text/plain": [
       "<Figure size 360x360 with 1 Axes>"
      ]
     },
     "metadata": {
      "needs_background": "light"
     },
     "output_type": "display_data"
    },
    {
     "name": "stdout",
     "output_type": "stream",
     "text": [
      "found path!!\n",
      "done goal\n"
     ]
    },
    {
     "name": "stderr",
     "output_type": "stream",
     "text": [
      "[ERROR] [1629244486.740770, 1174.499000]: bad callback: <function callbackgoal at 0x7fe64f2288b0>\n",
      "Traceback (most recent call last):\n",
      "  File \"/opt/ros/noetic/lib/python3/dist-packages/rospy/topics.py\", line 750, in _invoke_callback\n",
      "    cb(msg)\n",
      "  File \"<ipython-input-5-40364df4546b>\", line 73, in callbackgoal\n",
      "    start=[xy_start[0],xy_start[1]],\n",
      "TypeError: 'Odometry' object is not subscriptable\n",
      "\n"
     ]
    },
    {
     "name": "stdout",
     "output_type": "stream",
     "text": [
      "done goal\n"
     ]
    },
    {
     "data": {
      "image/png": "[encoded data removed]",
      "text/plain": [
       "<Figure size 360x360 with 1 Axes>"
      ]
     },
     "metadata": {
      "needs_background": "light"
     },
     "output_type": "display_data"
    },
    {
     "name": "stdout",
     "output_type": "stream",
     "text": [
      "found path!!\n"
     ]
    },
    {
     "name": "stderr",
     "output_type": "stream",
     "text": [
      "[ERROR] [1629244498.051416, 1180.537000]: bad callback: <function callbackgoal at 0x7fe64f2288b0>\n",
      "Traceback (most recent call last):\n",
      "  File \"/opt/ros/noetic/lib/python3/dist-packages/rospy/topics.py\", line 750, in _invoke_callback\n",
      "    cb(msg)\n",
      "  File \"<ipython-input-5-40364df4546b>\", line 90, in callbackgoal\n",
      "    f, u = interpolate.splprep([rrp[:,0], rrp[:,1]],s=0.001)\n",
      "  File \"/home/scifiswapnil/.local/lib/python3.8/site-packages/scipy/interpolate/fitpack.py\", line 155, in splprep\n",
      "    res = _impl.splprep(x, w, u, ub, ue, k, task, s, t, full_output, nest, per,\n",
      "  File \"/home/scifiswapnil/.local/lib/python3.8/site-packages/scipy/interpolate/_fitpack_impl.py\", line 264, in splprep\n",
      "    raise TypeError('m > k must hold')\n",
      "TypeError: m > k must hold\n",
      "\n"
     ]
    },
    {
     "name": "stdout",
     "output_type": "stream",
     "text": [
      "done goal\n"
     ]
    },
    {
     "name": "stderr",
     "output_type": "stream",
     "text": [
      "[ERROR] [1629244514.330891, 1189.210000]: bad callback: <function callbackgoal at 0x7fe64f2288b0>\n",
      "Traceback (most recent call last):\n",
      "  File \"/opt/ros/noetic/lib/python3/dist-packages/rospy/topics.py\", line 750, in _invoke_callback\n",
      "    cb(msg)\n",
      "  File \"<ipython-input-5-40364df4546b>\", line 73, in callbackgoal\n",
      "    start=[xy_start[0],xy_start[1]],\n",
      "TypeError: 'Odometry' object is not subscriptable\n",
      "\n"
     ]
    },
    {
     "name": "stdout",
     "output_type": "stream",
     "text": [
      "done goal\n"
     ]
    },
    {
     "data": {
      "image/png": "[encoded data removed]",
      "text/plain": [
       "<Figure size 360x360 with 1 Axes>"
      ]
     },
     "metadata": {
      "needs_background": "light"
     },
     "output_type": "display_data"
    },
    {
     "name": "stdout",
     "output_type": "stream",
     "text": [
      "found path!!\n"
     ]
    },
    {
     "name": "stderr",
     "output_type": "stream",
     "text": [
      "[ERROR] [1629244520.656145, 1192.496000]: bad callback: <function callbackgoal at 0x7fe64f2288b0>\n",
      "Traceback (most recent call last):\n",
      "  File \"/opt/ros/noetic/lib/python3/dist-packages/rospy/topics.py\", line 750, in _invoke_callback\n",
      "    cb(msg)\n",
      "  File \"<ipython-input-5-40364df4546b>\", line 90, in callbackgoal\n",
      "    f, u = interpolate.splprep([rrp[:,0], rrp[:,1]],s=0.001)\n",
      "  File \"/home/scifiswapnil/.local/lib/python3.8/site-packages/scipy/interpolate/fitpack.py\", line 155, in splprep\n",
      "    res = _impl.splprep(x, w, u, ub, ue, k, task, s, t, full_output, nest, per,\n",
      "  File \"/home/scifiswapnil/.local/lib/python3.8/site-packages/scipy/interpolate/_fitpack_impl.py\", line 264, in splprep\n",
      "    raise TypeError('m > k must hold')\n",
      "TypeError: m > k must hold\n",
      "\n"
     ]
    },
    {
     "name": "stdout",
     "output_type": "stream",
     "text": [
      "done goal\n"
     ]
    },
    {
     "data": {
      "image/png": "[encoded data removed]",
      "text/plain": [
       "<Figure size 360x360 with 1 Axes>"
      ]
     },
     "metadata": {
      "needs_background": "light"
     },
     "output_type": "display_data"
    },
    {
     "name": "stdout",
     "output_type": "stream",
     "text": [
      "found path!!\n",
      "done goal\n"
     ]
    },
    {
     "data": {
      "image/png": "[encoded data removed]",
      "text/plain": [
       "<Figure size 360x360 with 1 Axes>"
      ]
     },
     "metadata": {
      "needs_background": "light"
     },
     "output_type": "display_data"
    },
    {
     "name": "stdout",
     "output_type": "stream",
     "text": [
      "found path!!\n"
     ]
    }
   ],
   "source": [
    "import rospy\n",
    "from nav_msgs.msg import OccupancyGrid\n",
    "from geometry_msgs.msg import PoseStamped\n",
    "from nav_msgs.msg import Odometry\n",
    "\n",
    "import tf2_ros\n",
    "import tf2_geometry_msgs  # **Do not use geometry_msgs. Use this instead for PoseStamped\n",
    "\n",
    "res_remap = 0.01\n",
    "\n",
    "mapdata = None\n",
    "orgmapdata = None\n",
    "xy_start = None\n",
    "path_pub = None\n",
    "map_rec = False\n",
    "test = None\n",
    "def map_callback(data):\n",
    "    global mapdata\n",
    "    global orgmapdata\n",
    "    global map_x\n",
    "    global map_y\n",
    "    global map_org_x\n",
    "    global map_org_y\n",
    "    global map_res\n",
    "    global res_remap\n",
    "    global map_rec\n",
    "    \n",
    "    map_x = data.info.width\n",
    "    map_y = data.info.height\n",
    "    map_org_x = data.info.origin.position.x\n",
    "    map_org_y = data.info.origin.position.y\n",
    "    map_res = data.info.resolution\n",
    "    \n",
    "    mapdata = np.asarray(data.data).reshape(data.info.height,data.info.width).astype(np.uint8)\n",
    "    mapdata = np.flip(mapdata,0)\n",
    "    orgmapdata = mapdata\n",
    "    kernel = np.ones((int(res_remap*map_y),int(res_remap*map_x)),np.uint8)\n",
    "    mapdata = cv2.dilate(mapdata,kernel,iterations = 8)\n",
    "    mapdata = np.invert(mapdata)\n",
    "    mapdata = np.where(mapdata<250,0,mapdata)\n",
    "    plt.figure(figsize=(5,5))\n",
    "    plt.grid()\n",
    "    plt.imshow(mapdata)\n",
    "    plt.xlabel('X, m')\n",
    "    plt.ylabel('Y, m')\n",
    "    plt.show() \n",
    "    map_rec = True\n",
    "\n",
    "def callbackodom(data):\n",
    "    global xy_start\n",
    "    global map_rec\n",
    "    if (map_rec):\n",
    "        xy_start = data\n",
    "#         xy_start = meters2grid((data.pose.pose.position.x, data.pose.pose.position.y))\n",
    "    \n",
    "def callbackgoal(data):\n",
    "    global xy_start\n",
    "    global path_pub\n",
    "    global test\n",
    "    \n",
    "    tfbuffer = tf2_ros.Buffer()\n",
    "    listener = tf2_ros.TransformListener(tfbuffer)\n",
    "    \n",
    "    t_a_b = tfbuffer.lookup_transform('map', xy_start.header.frame_id, rospy.Time(0), rospy.Duration(10.0))\n",
    "    xy_start.pose = tf2_geometry_msgs.do_transform_pose(xy_start.pose, t_a_b)\n",
    "    pose = tf2_geometry_msgs.do_transform_pose(data, t_a_b)\n",
    "\n",
    "    xy_start = meters2grid((xy_start.pose.pose.position.x, xy_start.pose.pose.position.y))\n",
    "    xy_goal = meters2grid((data.pose.position.x, data.pose.position.y))\n",
    "    \n",
    "    print(\"done goal\")\n",
    "    rrt = RRT(\n",
    "        start=[xy_start[0],xy_start[1]],\n",
    "        goal=[xy_goal[0],xy_goal[1]],\n",
    "        rand_area=[100, 1400],\n",
    "        map_grid=mapdata,\n",
    "        expand_dis=30,\n",
    "        path_resolution=5,\n",
    "        goal_sample_rate=1,\n",
    "        max_iter=10000)\n",
    "    path = rrt.planning(animation=False)\n",
    "    rrt.draw_graph(orgmapdata+mapdata)\n",
    "    if path is None:\n",
    "        print(\"Cannot find path\")\n",
    "    else:\n",
    "        print(\"found path!!\")\n",
    "        path = path_smoothing(path)\n",
    "#         path = path_smoothing(path)\n",
    "        rrp = grid2meters((path[0:]))\n",
    "        f, u = interpolate.splprep([rrp[:,0], rrp[:,1]],s=0.001)\n",
    "        xsmooth, ysmooth = interpolate.splev(np.linspace(0, 1, len(rrp)*2), f)\n",
    "        ros_path = np.vstack((xsmooth,ysmooth))\n",
    "        rrtsmoothpath = Path()\n",
    "        rrtsmoothpath.header.frame_id = \"map\"\n",
    "        rrtsmoothpath.header.stamp = rospy.Time.now()\n",
    "        test = ros_path\n",
    "        for i in range(len(ros_path[0,:])): #(len(rrp)):#\n",
    "            pose = PoseStamped()\n",
    "            pose.header = rrtsmoothpath.header\n",
    "            pose.pose.position.x = ros_path[0,i] #rrp[i][0]#\n",
    "            pose.pose.position.y = ros_path[1,i] #rrp[i][1] #\n",
    "            pose.pose.orientation.w = 1\n",
    "            rrtsmoothpath.poses.append(pose)\n",
    "        path_pub.publish(rrtsmoothpath)\n",
    "\n",
    "rospy.init_node('listener', anonymous=True)\n",
    "rospy.Subscriber(\"/map\", OccupancyGrid, map_callback)\n",
    "rospy.Subscriber(\"/jackal0/odometry/local_filtered\", Odometry, callbackodom)\n",
    "path_pub = rospy.Publisher('/path', Path, queue_size=10)\n",
    "rospy.Subscriber(\"/jackal0/move_base_simple/goal\", PoseStamped, callbackgoal)"
   ]
  },
  {
   "cell_type": "markdown",
   "id": "655cf031",
   "metadata": {},
   "source": [
    "rrt = RRT(\n",
    "    start=[700,800],\n",
    "    goal=[905,700],\n",
    "    rand_area=[0, 1500],\n",
    "    map_grid=mapdata,\n",
    "    expand_dis=20,\n",
    "    path_resolution=5,\n",
    "    goal_sample_rate=1,\n",
    "    max_iter=10000)\n",
    "path = rrt.planning(animation=False)\n",
    "rrt.draw_graph()\n",
    "if path is None:\n",
    "    print(\"Cannot find path\")\n",
    "else:\n",
    "    print(\"found path!!\")\n"
   ]
  },
  {
   "cell_type": "markdown",
   "id": "de5d9a4c",
   "metadata": {},
   "source": [
    "smoothedpath = path_smoothing(path)\n",
    "print(smoothedpath)\n",
    "plt.imshow(mapdata)\n",
    "plt.plot([x for (x, y) in path], [y for (x, y) in path], '-r')\n",
    "plt.plot([x for (x, y) in smoothedpath], [\n",
    "    y for (x, y) in smoothedpath], '-g')\n",
    "plt.grid(True)\n",
    "plt.show()"
   ]
  },
  {
   "cell_type": "markdown",
   "id": "e2e61db3",
   "metadata": {},
   "source": [
    "x_start = meters2grid([0,0.8])\n",
    "x_goal = meters2grid([0,0.9522])\n",
    "plt.figure(figsize=(16,16))\n",
    "plt.grid()\n",
    "plt.imshow(map_grid)\n",
    "plt.xlabel('X, m')\n",
    "plt.ylabel('Y, m')\n",
    "plt.plot(x_start[0],x_start[1],'bo', markersize=5, label='start')\n",
    "plt.plot(x_goal[0],x_goal[1],'go', markersize=5, label='goal')\n",
    "plt.legend()\n",
    "plt.show()"
   ]
  },
  {
   "cell_type": "markdown",
   "id": "4a12fe60",
   "metadata": {},
   "source": [
    "map_x = odata.info.width\n",
    "map_y = odata.info.height\n",
    "map_org_x = odata.info.origin.position.x\n",
    "map_org_y = odata.info.origin.position.y\n",
    "map_res = odata.info.resolution\n",
    "res_remap = 0.05\n",
    "\n",
    "test = np.asarray(odata.data).reshape(odata.info.height,odata.info.width).astype(np.uint8)\n",
    "test = np.flip(test,0)\n",
    "kernel = np.ones((int(res_remap*map_y),int(res_remap*map_x)),np.uint8)\n",
    "test = cv2.dilate(test,kernel,iterations = 1)\n",
    "test = np.invert(test)\n",
    "test = np.where(test<250,0,test)\n",
    "plt.figure(figsize=(15,15))\n",
    "plt.grid()\n",
    "plt.imshow(test)\n",
    "plt.xlabel('X, m')\n",
    "plt.ylabel('Y, m')\n",
    "plt.show() y\n",
    "cv2.imshow(\"window_name\", cv2.resize(test, (500,500), interpolation = cv2.INTER_AREA))\n",
    "cv2.waitKey(0) \n",
    "cv2.destroyAllWindows() "
   ]
  },
  {
   "cell_type": "markdown",
   "id": "89d1d3b1",
   "metadata": {},
   "source": [
    "plt.scatter(rrp[:,0], rrp[:,1])\n",
    "plt.plot(xint, yint)\n",
    "plt.show()\n",
    "plt.plot([x for (x, y) in ros_path], [y for (x, y) in ros_path], '-r')\n",
    "plt.grid(True)\n",
    "plt.show()"
   ]
  },
  {
   "cell_type": "markdown",
   "id": "8deff0ae",
   "metadata": {},
   "source": [
    "def get_line(x1, y1, x2, y2):\n",
    "    points = []\n",
    "    issteep = abs(y2-y1) > abs(x2-x1)\n",
    "    if issteep:\n",
    "        x1, y1 = y1, x1\n",
    "        x2, y2 = y2, x2\n",
    "    rev = False\n",
    "    if x1 > x2:\n",
    "        x1, x2 = x2, x1\n",
    "        y1, y2 = y2, y1\n",
    "        rev = True\n",
    "    deltax = x2 - x1\n",
    "    deltay = abs(y2-y1)\n",
    "    error = int(deltax / 2)\n",
    "    y = y1\n",
    "    ystep = None\n",
    "    if y1 < y2:\n",
    "        ystep = 1\n",
    "    else:\n",
    "        ystep = -1\n",
    "    for x in range(x1, x2 + 1):\n",
    "        if issteep:\n",
    "            points.append((y, x))\n",
    "        else:\n",
    "            points.append((x, y))\n",
    "        error -= deltay\n",
    "        if error < 0:\n",
    "            y += ystep\n",
    "            error += deltax\n",
    "    # Reverse the list if the coordinates were reversed\n",
    "    if rev:\n",
    "        points.reverse()\n",
    "    return points\n"
   ]
  },
  {
   "cell_type": "markdown",
   "id": "c5b57534",
   "metadata": {},
   "source": [
    "get_line(0,0,10,100)"
   ]
  },
  {
   "cell_type": "markdown",
   "id": "04b21279",
   "metadata": {},
   "source": [
    "map_x = 1536.0 # in pixels\n",
    "map_y = 992.0 # in pixels\n",
    "map_org_x = -20.88\n",
    "map_org_y = -10.0\n",
    "map_res = 0.019999999552965164 # in meters\n",
    "res_remap = 0.05\n",
    "\n",
    "im = Image.open(\"/home/scifiswapnil/Desktop/jackal_ws/src/jackal_workspace/map/stage_two.pgm\")\n",
    "map_grid = np.asarray(im)\n",
    "plt.figure(figsize=(16,16))\n",
    "plt.grid()\n",
    "plt.imshow(map_grid)\n",
    "plt.xlabel('X, m')\n",
    "plt.ylabel('Y, m')\n",
    "plt.show()\n",
    "map_grid = np.where(map_grid<250, map_grid,255)\n",
    "map_grid = np.where(map_grid>205, map_grid, 0)\n",
    "map_grid = np.invert(map_grid)\n",
    "kernel = np.ones((int(res_remap*map_y),int(res_remap*map_x)),np.uint8)\n",
    "map_grid = cv2.dilate(map_grid,kernel,iterations = 1)\n",
    "map_grid = np.invert(map_grid)\n",
    "\n",
    "cv2.imshow(\"window_name\", cv2.resize(map_grid, (500,500), interpolation = cv2.INTER_AREA))\n",
    "cv2.waitKey(0) \n",
    "cv2.destroyAllWindows() \n",
    "\n",
    "print(map_grid.size)\n",
    "print(map_x*map_y)\n",
    "print(\"------------------------\")\n",
    "print(\"pixel space x = \",map_x)\n",
    "print(\"pixel space y = \",map_y)\n",
    "print(\"pixel space resolution = \",map_res,\"meters per pixel\")\n",
    "print(\"pixel space origin = 0,0 (top left corner)\")\n",
    "print(\"------------------------\")\n",
    "print(\"in mtrs real world min x = \",-((map_x*map_res))/2)\n",
    "print(\"in mtrs real world max x = \",((map_x*map_res))/2)\n",
    "print(\"in mtrs real world min y = \",-((map_y*map_res))/2)\n",
    "print(\"in mtrs real world max y = \",((map_y*map_res))/2)\n",
    "print(\"------------------------\")\n",
    "plt.figure(figsize=(16,16))\n",
    "plt.grid()\n",
    "plt.imshow(map_grid)\n",
    "plt.xlabel('X, m')\n",
    "plt.ylabel('Y, m')\n",
    "plt.show()"
   ]
  }
 ],
 "metadata": {
  "kernelspec": {
   "display_name": "Python 3",
   "language": "python",
   "name": "python3"
  },
  "language_info": {
   "codemirror_mode": {
    "name": "ipython",
    "version": 3
   },
   "file_extension": ".py",
   "mimetype": "text/x-python",
   "name": "python",
   "nbconvert_exporter": "python",
   "pygments_lexer": "ipython3",
   "version": "3.8.5"
  }
 },
 "nbformat": 4,
 "nbformat_minor": 5
}
