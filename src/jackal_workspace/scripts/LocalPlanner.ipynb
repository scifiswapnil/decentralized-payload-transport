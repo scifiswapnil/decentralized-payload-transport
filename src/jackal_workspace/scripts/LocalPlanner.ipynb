{
 "cells": [
  {
   "cell_type": "markdown",
   "id": "c60edb1e",
   "metadata": {},
   "source": [
    "**Script name** : Local Planner\n",
    "\n",
    "**Description** : Multi-agent payload transport global planner based on APF.\n",
    "\n",
    "**Author**      : Swapnil Kalhapure\n",
    "\n",
    "**Email**       : kalhapure.swapnil@gmail.com"
   ]
  },
  {
   "cell_type": "markdown",
   "id": "1ce98b97",
   "metadata": {},
   "source": [
    "## Imports"
   ]
  },
  {
   "cell_type": "code",
   "execution_count": 1,
   "id": "9cf7e98a",
   "metadata": {},
   "outputs": [],
   "source": [
    "import rospy\n",
    "import cv2\n",
    "import tf2_ros\n",
    "import tf2_geometry_msgs\n",
    "import numpy as np\n",
    "import matplotlib.pyplot as plt\n",
    "from nav_msgs.msg import Odometry\n",
    "from nav_msgs.msg import Path\n",
    "from nav_msgs.msg import OccupancyGrid\n",
    "from geometry_msgs.msg import Twist\n",
    "from scipy.ndimage.morphology import distance_transform_edt as bwdist\n",
    "from scipy.ndimage.morphology import grey_dilation\n",
    "from IPython.display import display, clear_output\n",
    "from scipy.spatial import distance\n",
    "from geometry_msgs.msg import PoseStamped"
   ]
  },
  {
   "cell_type": "markdown",
   "id": "399abfff",
   "metadata": {},
   "source": [
    "## Global variables"
   ]
  },
  {
   "cell_type": "code",
   "execution_count": 2,
   "id": "965bbb12",
   "metadata": {},
   "outputs": [],
   "source": [
    "res_remap = 0.04\n",
    "\n",
    "map_x = 0.0\n",
    "map_y = 0.0\n",
    "map_org_x = 0.0\n",
    "map_org_y = 0.0\n",
    "map_res = 0.0\n",
    "\n",
    "mapdata = None\n",
    "orgmapdata = None\n",
    "\n",
    "globalpath = []\n",
    "current_odom = None"
   ]
  },
  {
   "cell_type": "markdown",
   "id": "44f85608",
   "metadata": {},
   "source": [
    "## Helper functions"
   ]
  },
  {
   "cell_type": "code",
   "execution_count": 3,
   "id": "d959f603",
   "metadata": {},
   "outputs": [],
   "source": [
    "def meters2grid(pose_m):\n",
    "    pose_on_grid = np.array((np.array(pose_m) - [map_org_x, map_org_y])/ map_res)\n",
    "    pose_on_grid[1] = map_y - pose_on_grid[1] \n",
    "    return pose_on_grid"
   ]
  },
  {
   "cell_type": "code",
   "execution_count": 4,
   "id": "d1fabd83",
   "metadata": {},
   "outputs": [],
   "source": [
    "def grid2meters(pose_grid):\n",
    "    x = pose_grid[0] * (map_res) + map_org_x \n",
    "    y = (map_y - pose_grid[1]) * (map_res) + map_org_y \n",
    "    a = []\n",
    "    a.append(float(x))\n",
    "    a.append(float(y))\n",
    "    return a"
   ]
  },
  {
   "cell_type": "code",
   "execution_count": 5,
   "id": "db15fd7a",
   "metadata": {},
   "outputs": [],
   "source": [
    "def get_position_in_grid(odom):\n",
    "    tfbuffer = tf2_ros.Buffer()\n",
    "    listener = tf2_ros.TransformListener(tfbuffer)\n",
    "    t_a_b = tfbuffer.lookup_transform('map', odom.header.frame_id, rospy.Time(0), rospy.Duration(10.0))\n",
    "    odom.pose = tf2_geometry_msgs.do_transform_pose(odom.pose, t_a_b)\n",
    "    resp_odom = meters2grid((odom.pose.pose.position.x, odom.pose.pose.position.y))\n",
    "    return resp_odom"
   ]
  },
  {
   "cell_type": "code",
   "execution_count": 6,
   "id": "0d180b6d",
   "metadata": {},
   "outputs": [],
   "source": [
    "def get_line(x1, y1, x2, y2):\n",
    "    x1 = int(x1)\n",
    "    y1 = int(y1)\n",
    "    x2 = int(x2)\n",
    "    y2 = int(y2)\n",
    "    points = []\n",
    "    issteep = abs(y2-y1) > abs(x2-x1)\n",
    "    if issteep:\n",
    "        x1, y1 = y1, x1\n",
    "        x2, y2 = y2, x2\n",
    "    rev = False\n",
    "    if x1 > x2:\n",
    "        x1, x2 = x2, x1\n",
    "        y1, y2 = y2, y1\n",
    "        rev = True\n",
    "    deltax = x2 - x1\n",
    "    deltay = abs(y2-y1)\n",
    "    error = int(deltax / 2)\n",
    "    y = y1\n",
    "    ystep = None\n",
    "    if y1 < y2:\n",
    "        ystep = 1\n",
    "    else:\n",
    "        ystep = -1\n",
    "    for x in range(x1, x2 + 1):\n",
    "        if issteep:\n",
    "            points.append((y, x))\n",
    "        else:\n",
    "            points.append((x, y))\n",
    "        error -= deltay\n",
    "        if error < 0:\n",
    "            y += ystep\n",
    "            error += deltax\n",
    "    # Reverse the list if the coordinates were reversed\n",
    "    if rev:\n",
    "        points.reverse()\n",
    "    return points"
   ]
  },
  {
   "cell_type": "code",
   "execution_count": 7,
   "id": "6d695cf6",
   "metadata": {},
   "outputs": [],
   "source": [
    "def path_smoothing(path):\n",
    "    current_point = 0 \n",
    "    mapd = mapdata\n",
    "    smoothedpath = []\n",
    "    smoothedpath.append([path[current_point][0],path[current_point][1]])\n",
    "    while (current_point <= len(path)):\n",
    "        org_current_point = current_point\n",
    "        for j in range(current_point,len(path)):\n",
    "            point_lists = get_line(path[current_point][0],path[current_point][1],path[j][0],path[j][1])\n",
    "            a = 0\n",
    "            for i in range(len(point_lists)):\n",
    "                if (mapd[point_lists[i][1],point_lists[i][0]] <= 0.0):\n",
    "                    a = 1\n",
    "                    current_point = j \n",
    "                    smoothedpath.append([path[j][0],path[j][1]])\n",
    "                    break\n",
    "            if (a == 1):\n",
    "                break\n",
    "        if (org_current_point == current_point):\n",
    "            break\n",
    "    smoothedpath.append([path[-1][0],path[-1][1]])\n",
    "    return smoothedpath"
   ]
  },
  {
   "cell_type": "markdown",
   "id": "8d2ce79d",
   "metadata": {},
   "source": [
    "## Controller"
   ]
  },
  {
   "cell_type": "code",
   "execution_count": 8,
   "id": "52f47c28",
   "metadata": {
    "scrolled": false
   },
   "outputs": [],
   "source": [
    "class local_region:\n",
    "    def __init__(self, origin_x, origin_y, width=200):\n",
    "        self.org_x = origin_x\n",
    "        self.org_y = origin_y\n",
    "        self.data = None\n",
    "        self.force = None\n",
    "        self.attractive = None\n",
    "        self.repulsive = None\n",
    "        self.global_path_start = 0\n",
    "        self.path = []\n",
    "        self.data = mapdata[origin_y-width:origin_y+width,origin_x-width:origin_x+width]\n",
    "        \n",
    "    def local_coordinate_convert(self,data):\n",
    "        return (data - (self.get_origin() - np.array([200,200])))\n",
    "    \n",
    "    def global_coordinate_convert(self,data):\n",
    "        return (data + (self.get_origin() - np.array([200,200])))\n",
    "        \n",
    "    def set_map_data(self,data):\n",
    "        self.data = data\n",
    "        \n",
    "    def get_map_data(self):\n",
    "        return self.data\n",
    "    \n",
    "    def get_target_data(self):\n",
    "        return self.global_coordinate_convert(self.target)\n",
    "    \n",
    "    def get_target_local_data(self):\n",
    "        return self.target\n",
    "    \n",
    "    def get_local_path(self):\n",
    "        return self.path\n",
    "    \n",
    "    def get_origin(self):\n",
    "        return [self.org_x,self.org_y]\n",
    "    \n",
    "    def compute_global_path_goal(self):\n",
    "        dx = self.target[0]\n",
    "        dy = self.target[1]\n",
    "        return np.array([dx,dy])\n",
    "    \n",
    "    def extract_local_path(self,path):\n",
    "        self.path = []\n",
    "        for i in range(self.global_path_start,len(path[0])):\n",
    "            ans =  self.local_coordinate_convert(np.array([path[0,i],path[1,i]]))\n",
    "            if ans[0]>=0 and ans[1]>=0 and ans[0]<=400 and ans[1]<=400:\n",
    "                self.path.append(np.array([ans[0],ans[1]]))\n",
    "            else : \n",
    "                break\n",
    "        self.path=np.asarray(self.path)\n",
    "        self.target = self.path[0,:]\n",
    "        return self.path\n",
    "    \n",
    "    def extract_immediate_goal(self,global_path):\n",
    "        ans = []\n",
    "        for i in range(len(self.path[:,0])):\n",
    "            ans.append(distance.euclidean([200,200], self.path[i,:]))\n",
    "        if (np.min(ans) < 40):\n",
    "            delete_point = self.global_coordinate_convert(self.path[np.argmin(ans),:])\n",
    "            ay = np.where(global_path==np.array([[delete_point[0]],[delete_point[1]]]))[1][0] + 1\n",
    "            global_path = np.delete(global_path,np.s_[0:ay],axis=1)\n",
    "            self.path = np.delete(self.path, np.argmin(ans),axis=0)\n",
    "            self.path = np.delete(self.path,np.s_[0:np.argmin(ans)],axis=0)\n",
    "        self.target = self.local_coordinate_convert(global_path[:,0])\n",
    "        return self.target,global_path\n",
    "    \n",
    "    def compute_map_repulsive_force(self,influence_radius = 7, repulsive_coef = 100):\n",
    "        img = np.zeros((400, 400), np.uint8)\n",
    "        bdist = bwdist(self.data==255)\n",
    "        bdist2 = (bdist/100.) + 1\n",
    "        repulsive = repulsive_coef*((1./bdist2 - 1./influence_radius)**2)\n",
    "        repulsive [bdist2 > influence_radius] = 0\n",
    "        self.repulsive = repulsive\n",
    "        return repulsive\n",
    "    \n",
    "    def compute_goal_attractive_force(self, goal = [50,50],attractive_coef = 1./100):\n",
    "        [x, y] = np.meshgrid(np.arange(self.data.shape[1]), np.arange(self.data.shape[0]))\n",
    "        attractive = attractive_coef * ( (x - goal[0])**2 + (y - goal[1])**2 )\n",
    "        self.attractive = attractive\n",
    "        return attractive\n",
    "    \n",
    "    def compute_external_repulsive_force(self, goal = [50,50], repulsive_coef = 1./10 ):\n",
    "        [px, py] = np.meshgrid(np.arange(self.data.shape[0]/4), np.arange(self.data.shape[1]/4))\n",
    "        attractive =  -repulsive_coef * ((px - self.data.shape[0]/8)**2 + (py - self.data.shape[1]/8)**2 )\n",
    "        [x, y] = np.meshgrid(np.ones(self.data.shape[0]), np.ones(self.data.shape[1]))\n",
    "        x = x + np.min(attractive)\n",
    "        y = y + np.min(attractive)\n",
    "        whole = x + y\n",
    "        whole[int(goal[0]-self.data.shape[0]/8):int(goal[0]+self.data.shape[0]/8),\n",
    "              int(goal[1]-self.data.shape[1]/8):int(goal[1]+self.data.shape[1]/8)] = attractive\n",
    "        whole = cv2.blur(whole,(100,100))\n",
    "        return whole\n",
    "    \n",
    "    def compute_forces(self,goal = [50,50],pallet_goal=[100,100],agent_loc=[200,200], influence_radius = 7, repulsive_coef = 100, attractive_coef = 1./100):\n",
    "        repulsive = self.compute_map_repulsive_force(influence_radius,repulsive_coef)\n",
    "        attractive = self.compute_goal_attractive_force(goal,attractive_coef)\n",
    "        pallet_repulsive =  self.compute_external_repulsive_force(pallet_goal,repulsive_coef=.25)\n",
    "        agent_repulsive =  self.compute_external_repulsive_force(agent_loc,repulsive_coef=.25)\n",
    "        self.force =  repulsive + attractive #+ pallet_repulsive\n",
    "        return self.force \n",
    "    \n",
    "\n",
    "    def visualize_forces (self):\n",
    "        skip = 5\n",
    "        [x_m, y_m] = np.meshgrid(np.linspace(1, 400,400), np.linspace(1, 400,400))\n",
    "        [gy, gx] = np.gradient(self.force);\n",
    "        gx = -gx\n",
    "        q_stack = x_m[::skip, ::skip], y_m[::skip, ::skip], gx[::skip, ::skip], gy[::skip, ::skip]\n",
    "        plt.figure(figsize=(15,15))\n",
    "        plt.imshow(self.data)\n",
    "        plt.quiver(x_m[::skip, ::skip], y_m[::skip, ::skip], gx[::skip, ::skip], gy[::skip, ::skip])\n",
    "        return plt\n",
    "    \n",
    "    def gradient_planner (self, start_coords):\n",
    "        [gy, gx] = np.gradient(-self.force);\n",
    "        route = np.array([np.array(start_coords)])\n",
    "        ix = 0\n",
    "        iy = 0\n",
    "        max_itr = 0\n",
    "        while(((ix < len(gx)-2) and (ix < len(gy)-2)) and max_itr < 150):\n",
    "            current_point = route[-1,:];\n",
    "            ix = int( current_point[1] )\n",
    "            iy = int( current_point[0] )\n",
    "            vx = gx[ix, iy]\n",
    "            vy = gy[ix, iy]\n",
    "            dt = 1 / np.linalg.norm([vx, vy]);\n",
    "            next_point = current_point + dt*np.array( [vx, vy] );\n",
    "            route = np.vstack( [route, next_point] ); \n",
    "            max_itr = max_itr + 1 \n",
    "        return route"
   ]
  },
  {
   "cell_type": "markdown",
   "id": "00774c7a",
   "metadata": {},
   "source": [
    "## ROS Code"
   ]
  },
  {
   "cell_type": "code",
   "execution_count": 9,
   "id": "842d3284",
   "metadata": {},
   "outputs": [
    {
     "data": {
      "image/png": "[encoded data removed]",
      "text/plain": [
       "<Figure size 360x360 with 1 Axes>"
      ]
     },
     "metadata": {
      "needs_background": "light"
     },
     "output_type": "display_data"
    },
    {
     "name": "stdout",
     "output_type": "stream",
     "text": [
      "Got the Global path\n"
     ]
    },
    {
     "data": {
      "image/png": "[encoded data removed]",
      "text/plain": [
       "<Figure size 360x360 with 1 Axes>"
      ]
     },
     "metadata": {
      "needs_background": "light"
     },
     "output_type": "display_data"
    }
   ],
   "source": [
    "def map_callback(data):\n",
    "    global mapdata\n",
    "    global orgmapdata\n",
    "    global map_x\n",
    "    global map_y\n",
    "    global map_org_x\n",
    "    global map_org_y\n",
    "    global map_res\n",
    "    global res_remap\n",
    "    \n",
    "    map_x = data.info.width\n",
    "    map_y = data.info.height\n",
    "    map_org_x = data.info.origin.position.x\n",
    "    map_org_y = data.info.origin.position.y\n",
    "    map_res = data.info.resolution\n",
    "    \n",
    "    orgmapdata = np.asarray(data.data).reshape(data.info.height,data.info.width).astype(np.uint8)\n",
    "    orgmapdata = np.flip(orgmapdata,0)\n",
    "    mapdata = orgmapdata\n",
    "    mapdata = np.where(mapdata<254,mapdata,0)\n",
    "    mapdata = grey_dilation(mapdata,size=(int(res_remap*map_y),int(res_remap*map_x)))\n",
    "    mapdata = np.invert(mapdata)\n",
    "    mapdata = cv2.threshold(mapdata, 200, 255, cv2.THRESH_BINARY)[1]\n",
    "\n",
    "    plt.figure(figsize=(5,5))\n",
    "    plt.grid()\n",
    "    plt.imshow(mapdata)\n",
    "    plt.xlabel('X, m')\n",
    "    plt.ylabel('Y, m')\n",
    "    plt.show() \n",
    "\n",
    "\n",
    "def path_callback(data):\n",
    "    global mapdata\n",
    "    global globalpath\n",
    "    print(\"Got the Global path\")\n",
    "    globalpath = []\n",
    "    x = []\n",
    "    y = []\n",
    "    for i in range(len(data.poses)):\n",
    "        ans = meters2grid((data.poses[i].pose.position.x,\n",
    "                           data.poses[i].pose.position.y))\n",
    "        x.append(int(ans[0]))\n",
    "        y.append(int(ans[1]))\n",
    "    globalpath.append(x)\n",
    "    globalpath.append(y)\n",
    "    globalpath=np.array(globalpath)\n",
    "    plt.figure(figsize=(5,5))\n",
    "    plt.imshow(mapdata)\n",
    "    plt.grid(True)\n",
    "    plt.plot(globalpath[0],globalpath[1],\"bo--\")\n",
    "    plt.show()\n",
    "\n",
    "def odom_callback(data):\n",
    "    global current_odom\n",
    "    current_odom = data\n",
    "    \n",
    "\n",
    "rospy.init_node('LocalPlanner', anonymous=True)\n",
    "rospy.Subscriber(\"/map\", OccupancyGrid, map_callback)\n",
    "rospy.Subscriber(\"/global_path\", Path, path_callback)\n",
    "rospy.Subscriber(\"/jackal0/odometry/local_filtered\", Odometry, odom_callback)\n",
    "local_path_pub = rospy.Publisher('/path', Path, queue_size=10)"
   ]
  },
  {
   "cell_type": "markdown",
   "id": "8ba53ebc",
   "metadata": {},
   "source": [
    "## Control Loop"
   ]
  },
  {
   "cell_type": "code",
   "execution_count": 34,
   "id": "2ea7165e",
   "metadata": {
    "scrolled": false
   },
   "outputs": [
    {
     "ename": "IndexError",
     "evalue": "index 0 is out of bounds for axis 1 with size 0",
     "output_type": "error",
     "traceback": [
      "\u001b[0;31m---------------------------------------------------------------------------\u001b[0m",
      "\u001b[0;31mIndexError\u001b[0m                                Traceback (most recent call last)",
      "\u001b[0;32m<ipython-input-34-a8d62882a28c>\u001b[0m in \u001b[0;36m<module>\u001b[0;34m\u001b[0m\n\u001b[1;32m      2\u001b[0m \u001b[0ma\u001b[0m \u001b[0;34m=\u001b[0m \u001b[0mlocal_region\u001b[0m\u001b[0;34m(\u001b[0m\u001b[0mco\u001b[0m\u001b[0;34m[\u001b[0m\u001b[0;36m0\u001b[0m\u001b[0;34m]\u001b[0m\u001b[0;34m,\u001b[0m\u001b[0mco\u001b[0m\u001b[0;34m[\u001b[0m\u001b[0;36m1\u001b[0m\u001b[0;34m]\u001b[0m\u001b[0;34m)\u001b[0m\u001b[0;34m\u001b[0m\u001b[0;34m\u001b[0m\u001b[0m\n\u001b[1;32m      3\u001b[0m \u001b[0ma\u001b[0m\u001b[0;34m.\u001b[0m\u001b[0mextract_local_path\u001b[0m\u001b[0;34m(\u001b[0m\u001b[0mglobalpath\u001b[0m\u001b[0;34m)\u001b[0m\u001b[0;34m\u001b[0m\u001b[0;34m\u001b[0m\u001b[0m\n\u001b[0;32m----> 4\u001b[0;31m \u001b[0mtarget\u001b[0m \u001b[0;34m,\u001b[0m \u001b[0mglobalpath\u001b[0m \u001b[0;34m=\u001b[0m \u001b[0ma\u001b[0m\u001b[0;34m.\u001b[0m\u001b[0mextract_immediate_goal\u001b[0m\u001b[0;34m(\u001b[0m\u001b[0mglobalpath\u001b[0m\u001b[0;34m)\u001b[0m\u001b[0;34m\u001b[0m\u001b[0;34m\u001b[0m\u001b[0m\n\u001b[0m\u001b[1;32m      5\u001b[0m \u001b[0mpath_goal_pose\u001b[0m \u001b[0;34m=\u001b[0m \u001b[0ma\u001b[0m\u001b[0;34m.\u001b[0m\u001b[0mcompute_global_path_goal\u001b[0m\u001b[0;34m(\u001b[0m\u001b[0;34m)\u001b[0m\u001b[0;34m\u001b[0m\u001b[0;34m\u001b[0m\u001b[0m\n\u001b[1;32m      6\u001b[0m \u001b[0mpallet_pose\u001b[0m \u001b[0;34m=\u001b[0m \u001b[0;34m[\u001b[0m\u001b[0;36m300\u001b[0m\u001b[0;34m,\u001b[0m\u001b[0;36m300\u001b[0m\u001b[0;34m]\u001b[0m\u001b[0;34m\u001b[0m\u001b[0;34m\u001b[0m\u001b[0m\n",
      "\u001b[0;32m<ipython-input-8-422bb19b5aa7>\u001b[0m in \u001b[0;36mextract_immediate_goal\u001b[0;34m(self, global_path)\u001b[0m\n\u001b[1;32m     62\u001b[0m             \u001b[0mself\u001b[0m\u001b[0;34m.\u001b[0m\u001b[0mpath\u001b[0m \u001b[0;34m=\u001b[0m \u001b[0mnp\u001b[0m\u001b[0;34m.\u001b[0m\u001b[0mdelete\u001b[0m\u001b[0;34m(\u001b[0m\u001b[0mself\u001b[0m\u001b[0;34m.\u001b[0m\u001b[0mpath\u001b[0m\u001b[0;34m,\u001b[0m \u001b[0mnp\u001b[0m\u001b[0;34m.\u001b[0m\u001b[0margmin\u001b[0m\u001b[0;34m(\u001b[0m\u001b[0mans\u001b[0m\u001b[0;34m)\u001b[0m\u001b[0;34m,\u001b[0m\u001b[0maxis\u001b[0m\u001b[0;34m=\u001b[0m\u001b[0;36m0\u001b[0m\u001b[0;34m)\u001b[0m\u001b[0;34m\u001b[0m\u001b[0;34m\u001b[0m\u001b[0m\n\u001b[1;32m     63\u001b[0m             \u001b[0mself\u001b[0m\u001b[0;34m.\u001b[0m\u001b[0mpath\u001b[0m \u001b[0;34m=\u001b[0m \u001b[0mnp\u001b[0m\u001b[0;34m.\u001b[0m\u001b[0mdelete\u001b[0m\u001b[0;34m(\u001b[0m\u001b[0mself\u001b[0m\u001b[0;34m.\u001b[0m\u001b[0mpath\u001b[0m\u001b[0;34m,\u001b[0m\u001b[0mnp\u001b[0m\u001b[0;34m.\u001b[0m\u001b[0ms_\u001b[0m\u001b[0;34m[\u001b[0m\u001b[0;36m0\u001b[0m\u001b[0;34m:\u001b[0m\u001b[0mnp\u001b[0m\u001b[0;34m.\u001b[0m\u001b[0margmin\u001b[0m\u001b[0;34m(\u001b[0m\u001b[0mans\u001b[0m\u001b[0;34m)\u001b[0m\u001b[0;34m]\u001b[0m\u001b[0;34m,\u001b[0m\u001b[0maxis\u001b[0m\u001b[0;34m=\u001b[0m\u001b[0;36m0\u001b[0m\u001b[0;34m)\u001b[0m\u001b[0;34m\u001b[0m\u001b[0;34m\u001b[0m\u001b[0m\n\u001b[0;32m---> 64\u001b[0;31m         \u001b[0mself\u001b[0m\u001b[0;34m.\u001b[0m\u001b[0mtarget\u001b[0m \u001b[0;34m=\u001b[0m \u001b[0mself\u001b[0m\u001b[0;34m.\u001b[0m\u001b[0mlocal_coordinate_convert\u001b[0m\u001b[0;34m(\u001b[0m\u001b[0mglobal_path\u001b[0m\u001b[0;34m[\u001b[0m\u001b[0;34m:\u001b[0m\u001b[0;34m,\u001b[0m\u001b[0;36m0\u001b[0m\u001b[0;34m]\u001b[0m\u001b[0;34m)\u001b[0m\u001b[0;34m\u001b[0m\u001b[0;34m\u001b[0m\u001b[0m\n\u001b[0m\u001b[1;32m     65\u001b[0m         \u001b[0;32mreturn\u001b[0m \u001b[0mself\u001b[0m\u001b[0;34m.\u001b[0m\u001b[0mtarget\u001b[0m\u001b[0;34m,\u001b[0m\u001b[0mglobal_path\u001b[0m\u001b[0;34m\u001b[0m\u001b[0;34m\u001b[0m\u001b[0m\n\u001b[1;32m     66\u001b[0m \u001b[0;34m\u001b[0m\u001b[0m\n",
      "\u001b[0;31mIndexError\u001b[0m: index 0 is out of bounds for axis 1 with size 0"
     ]
    }
   ],
   "source": [
    "co = get_position_in_grid(current_odom).astype(np.uint16)\n",
    "a = local_region(co[0],co[1])\n",
    "a.extract_local_path(globalpath)\n",
    "target , globalpath = a.extract_immediate_goal(globalpath)\n",
    "path_goal_pose = a.compute_global_path_goal()\n",
    "pallet_pose = [300,300]\n",
    "r = a.compute_forces(goal = path_goal_pose, \n",
    "                         pallet_goal = pallet_pose,\n",
    "                         influence_radius = 2, \n",
    "                         repulsive_coef = 1000, \n",
    "                         attractive_coef = 1./20)\n",
    "test = a.visualize_forces()\n",
    "route = a.gradient_planner([200,200])\n",
    "test.plot(route[:,0],route[:,1],\"yo--\")\n",
    "global_route = []\n",
    "for l in range(len(route[:,0])):\n",
    "    global_route.append(a.global_coordinate_convert(route[l,:])) \n",
    "global_route = path_smoothing(global_route)\n",
    "global_route = np.array(global_route)\n",
    "test.plot(a.get_local_path()[:,0],a.get_local_path()[:,1],\"bo\")\n",
    "test.plot(target[0],target[1],\"go\")\n",
    "test.plot(a.compute_global_path_goal()[0],a.compute_global_path_goal()[1],\"yx\")\n",
    "test.plot(a.local_coordinate_convert(a.get_origin())[0],a.local_coordinate_convert(a.get_origin())[1],\"ro\")\n",
    "test.show()\n",
    "\n",
    "rrtsmoothpath = Path()\n",
    "rrtsmoothpath.header.frame_id = \"map\"\n",
    "rrtsmoothpath.header.stamp = rospy.Time.now()\n",
    "for i in range(len(global_route)):\n",
    "    pose = PoseStamped()\n",
    "    pose.header = rrtsmoothpath.header\n",
    "    ans = grid2meters([global_route[i,:][0],global_route[i,:][1]])\n",
    "    pose.pose.position.x = ans[0]\n",
    "    pose.pose.position.y = ans[1]\n",
    "    pose.pose.orientation.w = 1\n",
    "    rrtsmoothpath.poses.append(pose) \n",
    "local_path_pub.publish(rrtsmoothpath)"
   ]
  },
  {
   "cell_type": "markdown",
   "id": "397013ae",
   "metadata": {},
   "source": [
    "## Test code"
   ]
  },
  {
   "cell_type": "markdown",
   "id": "2f4c55a3",
   "metadata": {},
   "source": [
    "p = True\n",
    "t = 0\n",
    "path_goal_pose = [globalpath[0][t],globalpath[1][t]]\n",
    "pallet_pose = [300,300]\n",
    "while p:\n",
    "    co = meters2grid([current_odom.pose.pose.position.x,current_odom.pose.pose.position.y]).astype(np.uint16)\n",
    "    a = local_region(co[0],co[1])\n",
    "    r = a.compute_forces(goal = path_goal_pose, \n",
    "                         pallet_goal = pallet_pose,\n",
    "                         influence_radius = 2, \n",
    "                         repulsive_coef = 2200, \n",
    "                         attractive_coef = 1./100)\n",
    "    \n",
    "    test = a.visualize_forces()\n",
    "    route = a.gradient_planner([200,200])\n",
    "    w=a.extract_local_path(globalpath)\n",
    "    plt.plot(w[:,0],w[:,1],\"bo\")\n",
    "    test.plot(route[:,0],route[:,1],\"yo--\")\n",
    "    test.plot(200,200,\"go\")\n",
    "    test.plot(pallet_pose[0],pallet_pose[1],\"ro\")\n",
    "    test.show()\n",
    "    \n",
    "    display(test)\n",
    "    clear_output(wait = True)"
   ]
  },
  {
   "cell_type": "markdown",
   "id": "d4add9a7",
   "metadata": {},
   "source": [
    "plt.figure(figsize=(15,15))\n",
    "plt.imshow(mapdata)\n",
    "plt.grid(True)\n",
    "plt.plot(globalpath[0],globalpath[1],\"bo--\")\n",
    "plt.plot(a.get_origin()[0],a.get_origin()[1],\"ro\")\n",
    "plt.plot(a.get_target_data()[0],a.get_target_data()[1],\"go\")\n",
    "plt.plot(np.array(global_route)[:,0],np.array(global_route)[:,1],\"rx\")\n",
    "dx = a.get_origin()[0] - a.get_target_data()[0]\n",
    "dy = a.get_origin()[1] - a.get_target_data()[1]\n",
    "dx = int(dx * -20) + a.get_origin()[0]\n",
    "dy = int(dy * -20) + a.get_origin()[1]\n",
    "plt.plot(dx,dy,\"yo\")\n",
    "plt.show()"
   ]
  },
  {
   "cell_type": "markdown",
   "id": "881e8864",
   "metadata": {},
   "source": [
    "co = meters2grid([current_odom.pose.pose.position.x,current_odom.pose.pose.position.y]).astype(np.uint16)\n",
    "a = local_region(co[0],co[1])\n",
    "r = a.compute_forces(goal=[50,50],pallet_goal = [50,50],influence_radius = 2, \n",
    "                                                        repulsive_coef = 2200, \n",
    "                                                        attractive_coef = 1./100)\n",
    "test = a.visualize_forces()\n",
    "test.show()"
   ]
  },
  {
   "cell_type": "markdown",
   "id": "f6eae779",
   "metadata": {},
   "source": [
    "tt = 2\n",
    "a = local_region(globalpath[0][tt],globalpath[1][tt])\n",
    "path_goal_pose = [200,800]\n",
    "pallet_pose = [300,300]\n",
    "robot_pose = [200,200]\n",
    "r = a.compute_forces(goal=path_goal_pose,pallet_goal = pallet_pose,influence_radius = 2, \n",
    "                                                        repulsive_coef = 2200, \n",
    "                                                        attractive_coef = 1./100)\n",
    "test = a.visualize_forces()\n",
    "route = a.gradient_planner(robot_pose)\n",
    "test.plot(route[:,0],route[:,1],\"bo--\")\n",
    "test.plot(robot_pose[0],robot_pose[1],\"go\")\n",
    "test.plot(pallet_pose[0],pallet_pose[1],\"ro\")\n",
    "test.show()"
   ]
  },
  {
   "cell_type": "markdown",
   "id": "4acbbd52",
   "metadata": {},
   "source": [
    "## Garbage"
   ]
  },
  {
   "cell_type": "markdown",
   "id": "c3fc1583",
   "metadata": {},
   "source": [
    "plt.imshow(r)\n",
    "plt.colorbar()"
   ]
  },
  {
   "cell_type": "markdown",
   "id": "17b88fbd",
   "metadata": {},
   "source": [
    "[x, y] = np.meshgrid(np.arange(50), np.arange(50))\n",
    "ff = ((y - 25)**2) + ((x - 25)**2)\n",
    "\n",
    "[px, py] = np.meshgrid(np.zeros(200), np.zeros(200))\n",
    "fff= px+py\n",
    "\n",
    "fff[(int((fff.shape[0]/2)-(ff.shape[0]/2))):int(((fff.shape[0]/2)+(ff.shape[0]/2))),\n",
    "    (int((fff.shape[1]/2)-(ff.shape[1]/2))):int(((fff.shape[1]/2)+(ff.shape[1]/2)))]=ff\n",
    "plt.imshow(fff)"
   ]
  },
  {
   "cell_type": "markdown",
   "id": "ff158c94",
   "metadata": {},
   "source": [
    "[x, y] = np.meshgrid(np.arange(100), np.arange(100))\n",
    "a = ((x - 50)**2) + ((y - 50)**2)\n",
    "plt.imshow(a)\n",
    "np.max(a)"
   ]
  },
  {
   "cell_type": "markdown",
   "id": "dacd938e",
   "metadata": {},
   "source": [
    "np.vstack(a[:,0]).reshape(100)"
   ]
  },
  {
   "cell_type": "markdown",
   "id": "fb42c00a",
   "metadata": {},
   "source": [
    "[tx, ty] = np.meshgrid(np.ones(300), np.ones(300))"
   ]
  },
  {
   "cell_type": "markdown",
   "id": "91b3fc38",
   "metadata": {},
   "source": [
    "tx = tx*np.max(a)\n",
    "tx[0:100,0:100]=5\n",
    "tx[0:100,200:300]=5000\n",
    "tx[200:300,0:100]=5000\n",
    "tx[200:300,200:300]=5000\n",
    "tx[100:200,0:100] = np.vstack(a[:,0])\n",
    "tx[100:200,200:300] = np.vstack(a[:,0])\n",
    "tx[0:100,100:200] = np.vstack(a[:,0]).reshape(100)\n",
    "tx[200:300,100:200] = np.vstack(a[:,0]).reshape(100)\n",
    "tx[100:200,100:200] = a"
   ]
  },
  {
   "cell_type": "markdown",
   "id": "92466980",
   "metadata": {},
   "source": [
    "plt.imshow(cv2.blur(tx,(10,10)))\n",
    "plt.colorbar()"
   ]
  },
  {
   "cell_type": "markdown",
   "id": "47f39c1f",
   "metadata": {},
   "source": [
    "skip= 5\n",
    "[x_m, y_m] = np.meshgrid(np.linspace(1, 300,300), np.linspace(1, 300,300))\n",
    "[gy, gx] = np.gradient(cv2.blur(tx,(10,10)));\n",
    "gx = gx\n",
    "q_stack = x_m[::skip, ::skip], y_m[::skip, ::skip], gx[::skip, ::skip], gy[::skip, ::skip]\n",
    "plt.figure(figsize=(15,15))\n",
    "plt.imshow(tx)\n",
    "plt.colorbar()\n",
    "plt.quiver(x_m[::skip, ::skip], y_m[::skip, ::skip], gx[::skip, ::skip], gy[::skip, ::skip])"
   ]
  },
  {
   "cell_type": "markdown",
   "id": "cf4844fc",
   "metadata": {},
   "source": [
    "[px, py] = np.meshgrid(np.arange(50), np.arange(50))"
   ]
  },
  {
   "cell_type": "markdown",
   "id": "e4fd5adc",
   "metadata": {},
   "source": [
    "b = ((px - 25)**2) + ((py - 25)**2)"
   ]
  },
  {
   "cell_type": "markdown",
   "id": "f4245f86",
   "metadata": {},
   "source": [
    "plt.imshow(b)\n",
    "plt.colorbar()"
   ]
  }
 ],
 "metadata": {
  "kernelspec": {
   "display_name": "Python 3",
   "language": "python",
   "name": "python3"
  },
  "language_info": {
   "codemirror_mode": {
    "name": "ipython",
    "version": 3
   },
   "file_extension": ".py",
   "mimetype": "text/x-python",
   "name": "python",
   "nbconvert_exporter": "python",
   "pygments_lexer": "ipython3",
   "version": "3.8.5"
  }
 },
 "nbformat": 4,
 "nbformat_minor": 5
}
