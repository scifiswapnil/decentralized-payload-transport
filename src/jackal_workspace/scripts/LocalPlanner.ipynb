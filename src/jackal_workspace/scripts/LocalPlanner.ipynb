{
 "cells": [
  {
   "cell_type": "markdown",
   "id": "c60edb1e",
   "metadata": {},
   "source": [
    "**Script name** : Local Planner\n",
    "\n",
    "**Description** : Multi-agent payload transport global planner based on APF.\n",
    "\n",
    "**Author**      : Swapnil Kalhapure\n",
    "\n",
    "**Email**       : kalhapure.swapnil@gmail.com"
   ]
  },
  {
   "cell_type": "markdown",
   "id": "1ce98b97",
   "metadata": {},
   "source": [
    "## Imports"
   ]
  },
  {
   "cell_type": "code",
   "execution_count": 1,
   "id": "9cf7e98a",
   "metadata": {},
   "outputs": [],
   "source": [
    "import rospy\n",
    "import cv2\n",
    "import tf2_ros\n",
    "import tf2_geometry_msgs\n",
    "import numpy as np\n",
    "import matplotlib.pyplot as plt\n",
    "from nav_msgs.msg import Odometry\n",
    "from nav_msgs.msg import Path\n",
    "from nav_msgs.msg import OccupancyGrid\n",
    "from geometry_msgs.msg import Twist\n",
    "from scipy.ndimage.morphology import distance_transform_edt as bwdist\n",
    "from scipy.ndimage.morphology import grey_dilation\n",
    "from IPython.display import display, clear_output"
   ]
  },
  {
   "cell_type": "markdown",
   "id": "399abfff",
   "metadata": {},
   "source": [
    "## Global variables"
   ]
  },
  {
   "cell_type": "code",
   "execution_count": 2,
   "id": "965bbb12",
   "metadata": {},
   "outputs": [],
   "source": [
    "res_remap = 0.04\n",
    "\n",
    "map_x = 0.0\n",
    "map_y = 0.0\n",
    "map_org_x = 0.0\n",
    "map_org_y = 0.0\n",
    "map_res = 0.0\n",
    "\n",
    "mapdata = None\n",
    "orgmapdata = None\n",
    "\n",
    "globalpath = []\n",
    "current_odom = None"
   ]
  },
  {
   "cell_type": "markdown",
   "id": "44f85608",
   "metadata": {},
   "source": [
    "## Helper functions"
   ]
  },
  {
   "cell_type": "code",
   "execution_count": 3,
   "id": "d959f603",
   "metadata": {},
   "outputs": [],
   "source": [
    "def meters2grid(pose_m):\n",
    "    pose_on_grid = np.array((np.array(pose_m) - [map_org_x, map_org_y])/ map_res)\n",
    "    pose_on_grid[1] = map_y - pose_on_grid[1] \n",
    "    return pose_on_grid"
   ]
  },
  {
   "cell_type": "code",
   "execution_count": 4,
   "id": "d1fabd83",
   "metadata": {},
   "outputs": [],
   "source": [
    "def grid2meters(pose_grid):\n",
    "    x = pose_grid[0] * (map_res) + map_org_x \n",
    "    y = (map_y - pose_grid[1]) * (map_res) + map_org_y \n",
    "    a = []\n",
    "    a.append(float(x))\n",
    "    a.append(float(y))\n",
    "    return a"
   ]
  },
  {
   "cell_type": "code",
   "execution_count": 5,
   "id": "db15fd7a",
   "metadata": {},
   "outputs": [],
   "source": [
    "def get_position_in_grid(odom):\n",
    "    tfbuffer = tf2_ros.Buffer()\n",
    "    listener = tf2_ros.TransformListener(tfbuffer)\n",
    "    t_a_b = tfbuffer.lookup_transform('map', odom.header.frame_id, rospy.Time(0), rospy.Duration(10.0))\n",
    "    odom.pose = tf2_geometry_msgs.do_transform_pose(odom.pose, t_a_b)\n",
    "    resp_odom = meters2grid((odom.pose.pose.position.x, odom.pose.pose.position.y))\n",
    "    return resp_odom"
   ]
  },
  {
   "cell_type": "markdown",
   "id": "8d2ce79d",
   "metadata": {},
   "source": [
    "## Controller"
   ]
  },
  {
   "cell_type": "code",
   "execution_count": 6,
   "id": "52f47c28",
   "metadata": {
    "scrolled": false
   },
   "outputs": [],
   "source": [
    "class local_region:\n",
    "    def __init__(self, origin_x, origin_y, width=200):\n",
    "        self.org_x = origin_x\n",
    "        self.org_y = origin_y\n",
    "        self.data = None\n",
    "        self.force = None\n",
    "        self.attractive = None\n",
    "        self.repulsive = None\n",
    "        self.data = mapdata[origin_y-width:origin_y+width,origin_x-width:origin_x+width]\n",
    "        \n",
    "    def local_coordinate_convert(self,data):\n",
    "        return (data - (self.get_origin() - np.array([200,200])))\n",
    "        \n",
    "    def set_map_data(self,data):\n",
    "        self.data = data\n",
    "        \n",
    "    def get_map_data(self):\n",
    "        return self.data\n",
    "    \n",
    "    def get_origin(self):\n",
    "        return [self.org_x,self.org_y]\n",
    "    \n",
    "    def compute_map_repulsive_force(self,influence_radius = 7, repulsive_coef = 100):\n",
    "        img = np.zeros((400, 400), np.uint8)\n",
    "        bdist = bwdist(self.data==255)\n",
    "        bdist2 = (bdist/100.) + 1\n",
    "        repulsive = repulsive_coef*((1./bdist2 - 1./influence_radius)**2)\n",
    "        repulsive [bdist2 > influence_radius] = 0\n",
    "        self.repulsive = repulsive\n",
    "        return repulsive\n",
    "    \n",
    "    def compute_attractive_force(self, goal = [50,50],attractive_coef = 1./100):\n",
    "        [x, y] = np.meshgrid(np.arange(self.data.shape[1]), np.arange(self.data.shape[0]))\n",
    "        attractive = attractive_coef * ( (x - goal[0])**2 + (y - goal[1])**2 )\n",
    "        self.attractive = attractive\n",
    "        return attractive\n",
    "    \n",
    "    def compute_pallet_force(self, goal = [50,50], repulsive_coef = 1./10 ):\n",
    "        [px, py] = np.meshgrid(np.arange(self.data.shape[0]/4), np.arange(self.data.shape[1]/4))\n",
    "        attractive =  -repulsive_coef * ((px - self.data.shape[0]/8)**2 + (py - self.data.shape[1]/8)**2 )\n",
    "        [x, y] = np.meshgrid(np.ones(self.data.shape[0]), np.ones(self.data.shape[1]))\n",
    "        x = x + np.min(attractive)\n",
    "        y = y + np.min(attractive)\n",
    "        whole = x + y\n",
    "        whole[int(goal[0]-self.data.shape[0]/8):int(goal[0]+self.data.shape[0]/8),\n",
    "              int(goal[1]-self.data.shape[1]/8):int(goal[1]+self.data.shape[1]/8)] = attractive\n",
    "        whole = cv2.blur(whole,(100,100))\n",
    "        return whole,attractive\n",
    "    \n",
    "    def compute_forces(self,goal = [50,50],pallet_goal=[100,100], influence_radius = 7, repulsive_coef = 100, attractive_coef = 1./100):\n",
    "        repulsive = self.compute_map_repulsive_force(influence_radius,repulsive_coef)\n",
    "        attractive = self.compute_attractive_force(goal,attractive_coef)\n",
    "        pallet_repulsive,po =  self.compute_pallet_force(pallet_goal,repulsive_coef=.25)\n",
    "        self.force =  repulsive + attractive + pallet_repulsive\n",
    "        return self.force \n",
    "    \n",
    "\n",
    "    def visualize_forces (self):\n",
    "        skip = 5\n",
    "        [x_m, y_m] = np.meshgrid(np.linspace(1, 400,400), np.linspace(1, 400,400))\n",
    "        [gy, gx] = np.gradient(self.force);\n",
    "        gx = -gx\n",
    "        q_stack = x_m[::skip, ::skip], y_m[::skip, ::skip], gx[::skip, ::skip], gy[::skip, ::skip]\n",
    "        plt.figure(figsize=(5,5))\n",
    "        plt.imshow(self.data)\n",
    "        plt.quiver(x_m[::skip, ::skip], y_m[::skip, ::skip], gx[::skip, ::skip], gy[::skip, ::skip])\n",
    "        return plt\n",
    "    \n",
    "    def gradient_planner (self, start_coords):\n",
    "        [gy, gx] = np.gradient(-self.force);\n",
    "        route = np.array([np.array(start_coords)])\n",
    "        ix = 0\n",
    "        iy = 0\n",
    "        max_itr = 0\n",
    "        while(((ix < len(gx)-2) and (ix < len(gy)-2)) and max_itr < 1000):\n",
    "            current_point = route[-1,:];\n",
    "            ix = int( current_point[1] )\n",
    "            iy = int( current_point[0] )\n",
    "            vx = gx[ix, iy]\n",
    "            vy = gy[ix, iy]\n",
    "            dt = 1 / np.linalg.norm([vx, vy]);\n",
    "            next_point = current_point + dt*np.array( [vx, vy] );\n",
    "            route = np.vstack( [route, next_point] ); \n",
    "            max_itr = max_itr + 1 \n",
    "        return route"
   ]
  },
  {
   "cell_type": "markdown",
   "id": "00774c7a",
   "metadata": {},
   "source": [
    "## ROS Code"
   ]
  },
  {
   "cell_type": "code",
   "execution_count": 7,
   "id": "842d3284",
   "metadata": {},
   "outputs": [
    {
     "data": {
      "image/png": "[encoded data removed]",
      "text/plain": [
       "<Figure size 360x360 with 1 Axes>"
      ]
     },
     "metadata": {
      "needs_background": "light"
     },
     "output_type": "display_data"
    },
    {
     "name": "stdout",
     "output_type": "stream",
     "text": [
      "Got the Global path\n"
     ]
    },
    {
     "data": {
      "image/png": "[encoded data removed]",
      "text/plain": [
       "<Figure size 360x360 with 1 Axes>"
      ]
     },
     "metadata": {
      "needs_background": "light"
     },
     "output_type": "display_data"
    }
   ],
   "source": [
    "def map_callback(data):\n",
    "    global mapdata\n",
    "    global orgmapdata\n",
    "    global map_x\n",
    "    global map_y\n",
    "    global map_org_x\n",
    "    global map_org_y\n",
    "    global map_res\n",
    "    global res_remap\n",
    "    \n",
    "    map_x = data.info.width\n",
    "    map_y = data.info.height\n",
    "    map_org_x = data.info.origin.position.x\n",
    "    map_org_y = data.info.origin.position.y\n",
    "    map_res = data.info.resolution\n",
    "    \n",
    "    orgmapdata = np.asarray(data.data).reshape(data.info.height,data.info.width).astype(np.uint8)\n",
    "    orgmapdata = np.flip(orgmapdata,0)\n",
    "    mapdata = orgmapdata\n",
    "    mapdata = np.where(mapdata<254,mapdata,0)\n",
    "    mapdata = grey_dilation(mapdata,size=(int(res_remap*map_y),int(res_remap*map_x)))\n",
    "    mapdata = np.invert(mapdata)\n",
    "    mapdata = cv2.threshold(mapdata, 200, 255, cv2.THRESH_BINARY)[1]\n",
    "\n",
    "    plt.figure(figsize=(5,5))\n",
    "    plt.grid()\n",
    "    plt.imshow(mapdata)\n",
    "    plt.xlabel('X, m')\n",
    "    plt.ylabel('Y, m')\n",
    "    plt.show() \n",
    "\n",
    "\n",
    "def path_callback(data):\n",
    "    global mapdata\n",
    "    global globalpath\n",
    "    print(\"Got the Global path\")\n",
    "    globalpath = []\n",
    "    x = []\n",
    "    y = []\n",
    "    for i in range(len(data.poses)):\n",
    "        ans = meters2grid((data.poses[i].pose.position.x,\n",
    "                           data.poses[i].pose.position.y))\n",
    "        x.append(int(ans[0]))\n",
    "        y.append(int(ans[1]))\n",
    "    globalpath.append(x)\n",
    "    globalpath.append(y)\n",
    "    plt.figure(figsize=(5,5))\n",
    "    plt.imshow(mapdata)\n",
    "    plt.grid(True)\n",
    "    plt.plot(globalpath[0],globalpath[1],\"bo--\")\n",
    "    plt.show()\n",
    "\n",
    "def odom_callback(data):\n",
    "    global current_odom\n",
    "    current_odom = data\n",
    "    \n",
    "\n",
    "rospy.init_node('LocalPlanner', anonymous=True)\n",
    "rospy.Subscriber(\"/map\", OccupancyGrid, map_callback)\n",
    "rospy.Subscriber(\"/global_path\", Path, path_callback)\n",
    "rospy.Subscriber(\"/jackal0/odometry/local_filtered\", Odometry, odom_callback)\n",
    "path_pub = rospy.Publisher('/jackal0/cmd_vel', Twist, queue_size=10)"
   ]
  },
  {
   "cell_type": "code",
   "execution_count": 8,
   "id": "392b7882",
   "metadata": {},
   "outputs": [],
   "source": [
    "co = get_position_in_grid(current_odom).astype(np.uint16)\n",
    "a = local_region(co[0],co[1])\n",
    "# globalpath = np.flip(globalpath,1)"
   ]
  },
  {
   "cell_type": "code",
   "execution_count": 12,
   "id": "c85276b5",
   "metadata": {},
   "outputs": [
    {
     "data": {
      "image/png": "[encoded data removed]",
      "text/plain": [
       "<Figure size 360x360 with 1 Axes>"
      ]
     },
     "metadata": {
      "needs_background": "light"
     },
     "output_type": "display_data"
    }
   ],
   "source": [
    "plt.figure(figsize=(5,5))\n",
    "plt.imshow(mapdata)\n",
    "plt.grid(True)\n",
    "plt.plot(globalpath[0],globalpath[1],\"bo--\")\n",
    "plt.plot(a.get_origin()[0],a.get_origin()[1],\"ro\")\n",
    "plt.show()"
   ]
  },
  {
   "cell_type": "code",
   "execution_count": 13,
   "id": "849e51d6",
   "metadata": {},
   "outputs": [
    {
     "data": {
      "image/png": "[encoded data removed]",
      "text/plain": [
       "<Figure size 360x360 with 1 Axes>"
      ]
     },
     "metadata": {
      "needs_background": "light"
     },
     "output_type": "display_data"
    }
   ],
   "source": [
    "plt.figure(figsize=(5,5))\n",
    "plt.imshow(a.get_map_data())\n",
    "plt.grid(True)\n",
    "for i in range(0,len(globalpath[0])):\n",
    "    ans =  a.local_coordinate_convert(np.array([globalpath[0][i],globalpath[1][i]]))\n",
    "    if ans[0]>=0 and ans[1]>=0 and ans[0]<=400 and ans[1]<=400:\n",
    "        plt.plot(ans[0],ans[1],\"bo\")\n",
    "    else : \n",
    "        break\n",
    "plt.plot(a.local_coordinate_convert(a.get_origin())[0],a.local_coordinate_convert(a.get_origin())[1],\"ro\")\n",
    "plt.show()"
   ]
  },
  {
   "cell_type": "code",
   "execution_count": null,
   "id": "3e52a7ec",
   "metadata": {},
   "outputs": [],
   "source": [
    "p = True\n",
    "t = 0\n",
    "path_goal_pose = [globalpath[0][t],globalpath[1][t]]\n",
    "pallet_pose = [300,300]\n",
    "while p:\n",
    "    co = meters2grid([current_odom.pose.pose.position.x,current_odom.pose.pose.position.y]).astype(np.uint16)\n",
    "    a = local_region(co[0],co[1])\n",
    "    r = a.compute_forces(goal = path_goal_pose, \n",
    "                         pallet_goal = pallet_pose,\n",
    "                         influence_radius = 2, \n",
    "                         repulsive_coef = 2200, \n",
    "                         attractive_coef = 1./100)\n",
    "    \n",
    "    test = a.visualize_forces()\n",
    "    route = a.gradient_planner(robot_pose)\n",
    "    test.plot(route[:,0],route[:,1],\"bo--\")\n",
    "    test.plot(robot_pose[0],robot_pose[1],\"go\")\n",
    "    test.plot(pallet_pose[0],pallet_pose[1],\"ro\")\n",
    "    test.show()\n",
    "    \n",
    "    display(test)\n",
    "    clear_output(wait = True)"
   ]
  },
  {
   "cell_type": "markdown",
   "id": "397013ae",
   "metadata": {},
   "source": [
    "## Test code"
   ]
  },
  {
   "cell_type": "markdown",
   "id": "881e8864",
   "metadata": {},
   "source": [
    "co = meters2grid([current_odom.pose.pose.position.x,current_odom.pose.pose.position.y]).astype(np.uint16)\n",
    "a = local_region(co[0],co[1])\n",
    "r = a.compute_forces(goal=[50,50],pallet_goal = [50,50],influence_radius = 2, \n",
    "                                                        repulsive_coef = 2200, \n",
    "                                                        attractive_coef = 1./100)\n",
    "test = a.visualize_forces()\n",
    "test.show()"
   ]
  },
  {
   "cell_type": "markdown",
   "id": "f6eae779",
   "metadata": {},
   "source": [
    "tt = 2\n",
    "a = local_region(globalpath[0][tt],globalpath[1][tt])\n",
    "path_goal_pose = [200,800]\n",
    "pallet_pose = [300,300]\n",
    "robot_pose = [200,200]\n",
    "r = a.compute_forces(goal=path_goal_pose,pallet_goal = pallet_pose,influence_radius = 2, \n",
    "                                                        repulsive_coef = 2200, \n",
    "                                                        attractive_coef = 1./100)\n",
    "test = a.visualize_forces()\n",
    "route = a.gradient_planner(robot_pose)\n",
    "test.plot(route[:,0],route[:,1],\"bo--\")\n",
    "test.plot(robot_pose[0],robot_pose[1],\"go\")\n",
    "test.plot(pallet_pose[0],pallet_pose[1],\"ro\")\n",
    "test.show()"
   ]
  },
  {
   "cell_type": "markdown",
   "id": "4acbbd52",
   "metadata": {},
   "source": [
    "## Garbage"
   ]
  },
  {
   "cell_type": "markdown",
   "id": "c3fc1583",
   "metadata": {},
   "source": [
    "plt.imshow(r)\n",
    "plt.colorbar()"
   ]
  },
  {
   "cell_type": "markdown",
   "id": "17b88fbd",
   "metadata": {},
   "source": [
    "[x, y] = np.meshgrid(np.arange(50), np.arange(50))\n",
    "ff = ((y - 25)**2) + ((x - 25)**2)\n",
    "\n",
    "[px, py] = np.meshgrid(np.zeros(200), np.zeros(200))\n",
    "fff= px+py\n",
    "\n",
    "fff[(int((fff.shape[0]/2)-(ff.shape[0]/2))):int(((fff.shape[0]/2)+(ff.shape[0]/2))),\n",
    "    (int((fff.shape[1]/2)-(ff.shape[1]/2))):int(((fff.shape[1]/2)+(ff.shape[1]/2)))]=ff\n",
    "plt.imshow(fff)"
   ]
  },
  {
   "cell_type": "markdown",
   "id": "ff158c94",
   "metadata": {},
   "source": [
    "[x, y] = np.meshgrid(np.arange(100), np.arange(100))\n",
    "a = ((x - 50)**2) + ((y - 50)**2)\n",
    "plt.imshow(a)\n",
    "np.max(a)"
   ]
  },
  {
   "cell_type": "markdown",
   "id": "dacd938e",
   "metadata": {},
   "source": [
    "np.vstack(a[:,0]).reshape(100)"
   ]
  },
  {
   "cell_type": "markdown",
   "id": "fb42c00a",
   "metadata": {},
   "source": [
    "[tx, ty] = np.meshgrid(np.ones(300), np.ones(300))"
   ]
  },
  {
   "cell_type": "markdown",
   "id": "91b3fc38",
   "metadata": {},
   "source": [
    "tx = tx*np.max(a)\n",
    "tx[0:100,0:100]=5\n",
    "tx[0:100,200:300]=5000\n",
    "tx[200:300,0:100]=5000\n",
    "tx[200:300,200:300]=5000\n",
    "tx[100:200,0:100] = np.vstack(a[:,0])\n",
    "tx[100:200,200:300] = np.vstack(a[:,0])\n",
    "tx[0:100,100:200] = np.vstack(a[:,0]).reshape(100)\n",
    "tx[200:300,100:200] = np.vstack(a[:,0]).reshape(100)\n",
    "tx[100:200,100:200] = a"
   ]
  },
  {
   "cell_type": "markdown",
   "id": "92466980",
   "metadata": {},
   "source": [
    "plt.imshow(cv2.blur(tx,(10,10)))\n",
    "plt.colorbar()"
   ]
  },
  {
   "cell_type": "markdown",
   "id": "47f39c1f",
   "metadata": {},
   "source": [
    "skip= 5\n",
    "[x_m, y_m] = np.meshgrid(np.linspace(1, 300,300), np.linspace(1, 300,300))\n",
    "[gy, gx] = np.gradient(cv2.blur(tx,(10,10)));\n",
    "gx = gx\n",
    "q_stack = x_m[::skip, ::skip], y_m[::skip, ::skip], gx[::skip, ::skip], gy[::skip, ::skip]\n",
    "plt.figure(figsize=(15,15))\n",
    "plt.imshow(tx)\n",
    "plt.colorbar()\n",
    "plt.quiver(x_m[::skip, ::skip], y_m[::skip, ::skip], gx[::skip, ::skip], gy[::skip, ::skip])"
   ]
  },
  {
   "cell_type": "markdown",
   "id": "cf4844fc",
   "metadata": {},
   "source": [
    "[px, py] = np.meshgrid(np.arange(50), np.arange(50))"
   ]
  },
  {
   "cell_type": "markdown",
   "id": "e4fd5adc",
   "metadata": {},
   "source": [
    "b = ((px - 25)**2) + ((py - 25)**2)"
   ]
  },
  {
   "cell_type": "markdown",
   "id": "f4245f86",
   "metadata": {},
   "source": [
    "plt.imshow(b)\n",
    "plt.colorbar()"
   ]
  }
 ],
 "metadata": {
  "kernelspec": {
   "display_name": "Python 3",
   "language": "python",
   "name": "python3"
  },
  "language_info": {
   "codemirror_mode": {
    "name": "ipython",
    "version": 3
   },
   "file_extension": ".py",
   "mimetype": "text/x-python",
   "name": "python",
   "nbconvert_exporter": "python",
   "pygments_lexer": "ipython3",
   "version": "3.8.5"
  }
 },
 "nbformat": 4,
 "nbformat_minor": 5
}
