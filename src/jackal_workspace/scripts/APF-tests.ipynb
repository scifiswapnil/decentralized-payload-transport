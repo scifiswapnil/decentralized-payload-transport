{
 "cells": [
  {
   "cell_type": "code",
   "execution_count": 1,
   "id": "2d44fee6",
   "metadata": {},
   "outputs": [],
   "source": [
    "import rospy\n",
    "import time\n",
    "import numpy as np\n",
    "from nav_msgs.msg import OccupancyGrid\n",
    "from numpy.linalg import norm\n",
    "import matplotlib.pyplot as plt\n",
    "import matplotlib.patches as patches\n",
    "from matplotlib.patches import Polygon\n",
    "from scipy.ndimage.morphology import distance_transform_edt as bwdist\n",
    "from PIL import Image"
   ]
  },
  {
   "cell_type": "code",
   "execution_count": 2,
   "id": "e77feaec",
   "metadata": {},
   "outputs": [],
   "source": [
    "im = Image.open(\"/home/scifiswapnil/Desktop/robotics_project_001/src/hector_formation/map/map_ mod.pgm\")"
   ]
  },
  {
   "cell_type": "code",
   "execution_count": 3,
   "id": "99cfaceb",
   "metadata": {},
   "outputs": [],
   "source": [
    "a = np.asarray(im)"
   ]
  },
  {
   "cell_type": "code",
   "execution_count": 4,
   "id": "e26c32e6",
   "metadata": {
    "scrolled": false
   },
   "outputs": [
    {
     "data": {
      "text/plain": [
       "<matplotlib.image.AxesImage at 0x7f5870536490>"
      ]
     },
     "execution_count": 4,
     "metadata": {},
     "output_type": "execute_result"
    },
    {
     "data": {
      "image/png": "[encoded data removed]",
      "text/plain": [
       "<Figure size 432x288 with 1 Axes>"
      ]
     },
     "metadata": {
      "needs_background": "light"
     },
     "output_type": "display_data"
    }
   ],
   "source": [
    "plt.imshow(a)\n",
    "# a"
   ]
  },
  {
   "cell_type": "code",
   "execution_count": 74,
   "id": "9ade12a4",
   "metadata": {
    "scrolled": true
   },
   "outputs": [
    {
     "data": {
      "text/plain": [
       "<matplotlib.image.AxesImage at 0x7f581d39a6d0>"
      ]
     },
     "execution_count": 74,
     "metadata": {},
     "output_type": "execute_result"
    },
    {
     "data": {
      "image/png": "[encoded data removed]",
      "text/plain": [
       "<Figure size 432x288 with 1 Axes>"
      ]
     },
     "metadata": {
      "needs_background": "light"
     },
     "output_type": "display_data"
    }
   ],
   "source": [
    "d = bwdist(a==253)\n",
    "plt.imshow(d)"
   ]
  },
  {
   "cell_type": "code",
   "execution_count": 8,
   "id": "8acd37d1",
   "metadata": {},
   "outputs": [
    {
     "data": {
      "text/plain": [
       "array([[0., 0., 0., ..., 0., 0., 0.],\n",
       "       [0., 0., 0., ..., 0., 0., 0.],\n",
       "       [0., 0., 0., ..., 0., 0., 0.],\n",
       "       ...,\n",
       "       [0., 0., 0., ..., 0., 0., 0.],\n",
       "       [0., 0., 0., ..., 0., 0., 0.],\n",
       "       [0., 0., 0., ..., 0., 0., 0.]])"
      ]
     },
     "execution_count": 8,
     "metadata": {},
     "output_type": "execute_result"
    }
   ],
   "source": []
  },
  {
   "cell_type": "code",
   "execution_count": null,
   "id": "f75e6382",
   "metadata": {},
   "outputs": [],
   "source": [
    "odata = None\n",
    "def callback(data):\n",
    "    global odata\n",
    "    odata = data\n",
    "    rospy.loginfo(rospy.get_caller_id() + \"I heard %s\")"
   ]
  },
  {
   "cell_type": "code",
   "execution_count": null,
   "id": "c596ce0c",
   "metadata": {},
   "outputs": [],
   "source": [
    "rospy.init_node('listener', anonymous=True)\n",
    "rospy.Subscriber(\"/map\", OccupancyGrid, callback)\n",
    "time.sleep(2)\n",
    "# rospy.spin()"
   ]
  },
  {
   "cell_type": "code",
   "execution_count": 10,
   "id": "2b738f4c",
   "metadata": {},
   "outputs": [],
   "source": [
    "import cv2  "
   ]
  },
  {
   "cell_type": "code",
   "execution_count": null,
   "id": "397a7693",
   "metadata": {},
   "outputs": [],
   "source": [
    "type(odata)"
   ]
  },
  {
   "cell_type": "code",
   "execution_count": null,
   "id": "46393fd7",
   "metadata": {},
   "outputs": [],
   "source": [
    "def occupancygrid_to_numpy(msg):\n",
    "    data = np.asarray(msg.data, dtype=np.uint8).reshape(msg.info.height, msg.info.width)\n",
    "    return np.array(data)"
   ]
  },
  {
   "cell_type": "code",
   "execution_count": null,
   "id": "c611e3a7",
   "metadata": {},
   "outputs": [],
   "source": [
    "a = occupancygrid_to_numpy(odata)"
   ]
  },
  {
   "cell_type": "code",
   "execution_count": null,
   "id": "342bd007",
   "metadata": {},
   "outputs": [],
   "source": [
    "def numpy_to_occupancy_grid(arr, info=None):\n",
    "    if not len(arr.shape) == 2:\n",
    "        raise TypeError('Array must be 2D')\n",
    "    if not arr.dtype == np.int8:\n",
    "        raise TypeError('Array must be of int8s')\n",
    "    grid = OccupancyGrid()\n",
    "    if isinstance(arr, np.ma.MaskedArray):\n",
    "    # We assume that the masked value are already -1, for speed\n",
    "        arr = arr.data\n",
    "        grid.data = arr.ravel()\n",
    "        grid.info = info or MapMetaData()\n",
    "        grid.info.height = arr.shape[0]\n",
    "        grid.info.width = arr.shape[1]\n",
    "    return grid"
   ]
  },
  {
   "cell_type": "code",
   "execution_count": 11,
   "id": "002a393c",
   "metadata": {},
   "outputs": [],
   "source": [
    "aa = cv2.resize(a, (600,600))\n",
    "cv2.imshow(\"Simple_black\", aa)\n",
    "cv2.waitKey(0)\n",
    "cv2.destroyAllWindows()"
   ]
  },
  {
   "cell_type": "code",
   "execution_count": 71,
   "id": "1d3edc94",
   "metadata": {
    "scrolled": true
   },
   "outputs": [
    {
     "data": {
      "text/plain": [
       "<matplotlib.image.AxesImage at 0x7f581d4bc5e0>"
      ]
     },
     "execution_count": 71,
     "metadata": {},
     "output_type": "execute_result"
    },
    {
     "data": {
      "image/png": "[encoded data removed]",
      "text/plain": [
       "<Figure size 432x288 with 1 Axes>"
      ]
     },
     "metadata": {
      "needs_background": "light"
     },
     "output_type": "display_data"
    }
   ],
   "source": [
    "d = bwdist(aa==543)\n",
    "plt.imshow(d)"
   ]
  },
  {
   "cell_type": "code",
   "execution_count": 50,
   "id": "4064306d",
   "metadata": {},
   "outputs": [
    {
     "data": {
      "text/plain": [
       "<matplotlib.image.AxesImage at 0x7f582bf0d1c0>"
      ]
     },
     "execution_count": 50,
     "metadata": {},
     "output_type": "execute_result"
    },
    {
     "data": {
      "image/png": "[encoded data removed]",
      "text/plain": [
       "<Figure size 432x288 with 1 Axes>"
      ]
     },
     "metadata": {
      "needs_background": "light"
     },
     "output_type": "display_data"
    }
   ],
   "source": [
    "plt.imshow((d/100.)+1)"
   ]
  },
  {
   "cell_type": "code",
   "execution_count": 66,
   "id": "6164746a",
   "metadata": {},
   "outputs": [],
   "source": [
    "def combined_potential(obstacles_grid, goal, influence_radius=.02, attractive_coef=1./2000, repulsive_coef=900, nrows=600, ncols=600):\n",
    "    \"\"\" Repulsive potential \"\"\"\n",
    "    d = bwdist(obstacles_grid==253)\n",
    "    d2 = (d/100)  # Rescale and transform distances\n",
    "    d0 = influence_radius + 1\n",
    "    nu = repulsive_coef\n",
    "    repulsive = nu*((1/d2 - 1/d0)**2)\n",
    "    repulsive [d2 > d0] = 0\n",
    "    \"\"\" Attractive potential \"\"\"\n",
    "    [x, y] = np.meshgrid(np.arange(ncols), np.arange(nrows))\n",
    "    xi = attractive_coef\n",
    "    attractive = xi * ( (x - goal[0])**2 + (y - goal[1])**2 )\n",
    "    \"\"\" Combine terms \"\"\"\n",
    "    total = attractive + repulsive\n",
    "    return total, attractive, repulsive"
   ]
  },
  {
   "cell_type": "code",
   "execution_count": null,
   "id": "1f29e4bd",
   "metadata": {},
   "outputs": [],
   "source": []
  },
  {
   "cell_type": "code",
   "execution_count": 54,
   "id": "7e334945",
   "metadata": {},
   "outputs": [],
   "source": [
    "def gradient_planner (f, start, goal, max_its):\n",
    "    # GradientBasedPlanner : This function plans a path through a 2D\n",
    "    # environment from a start to a destination based on the gradient of the\n",
    "    # function f which is passed in as a 2D array. The two arguments\n",
    "    # start_coords and end_coords denote the coordinates of the start and end\n",
    "    # positions respectively in the array while max_its indicates an upper\n",
    "    # bound on the number of iterations that the system can use before giving\n",
    "    # up.\n",
    "    # The output, route, is an array with 2 columns and n rows where the rows\n",
    "    # correspond to the coordinates of the robot as it moves along the route.\n",
    "    # The first column corresponds to the x coordinate and the second to the y coordinate\n",
    "\n",
    "    [gy, gx] = np.gradient(-f);\n",
    "    start_coords = start; end_coords = goal\n",
    "    route = np.array( [np.array(start_coords)] )\n",
    "    for i in range(max_its):\n",
    "        current_point = route[-1,:];\n",
    "        # print(sum( abs(current_point-end_coords) ))\n",
    "        if sum( abs(current_point-end_coords) ) < 5.0:\n",
    "            # print('Reached the goal !');\n",
    "            break\n",
    "        ix = int( current_point[1] )\n",
    "        iy = int( current_point[0] )\n",
    "        vx = gx[ix, iy]\n",
    "        vy = gy[ix, iy]\n",
    "        dt = 1 / np.linalg.norm([vx, vy]);\n",
    "        next_point = current_point + dt*np.array( [vx, vy] );\n",
    "        route = np.vstack( [route, next_point] );\n",
    "#     route = grid2meters(route)\n",
    "    \n",
    "    return route"
   ]
  },
  {
   "cell_type": "code",
   "execution_count": 67,
   "id": "a10d8e6d",
   "metadata": {},
   "outputs": [
    {
     "name": "stderr",
     "output_type": "stream",
     "text": [
      "<ipython-input-66-b9fdc587586d>:7: RuntimeWarning: divide by zero encountered in true_divide\n",
      "  repulsive = nu*((1/d2 - 1/d0)**2)\n"
     ]
    },
    {
     "data": {
      "image/png": "[encoded data removed]",
      "text/plain": [
       "<Figure size 720x720 with 1 Axes>"
      ]
     },
     "metadata": {
      "needs_background": "light"
     },
     "output_type": "display_data"
    }
   ],
   "source": [
    "b,c,d = combined_potential(aa,(300,300))\n",
    "plt.figure(figsize=(10,10))\n",
    "\n",
    "# # Combined potential\n",
    "# f = combined_potential(obstacles_grid, xy_goal)\n",
    "# # Plan route\n",
    "# route = gradient_planner(b, (300,550), (300,300), 700)\n",
    "draw_gradient(b)\n",
    "# plt.plot(route[:,0], route[:,1], linewidth=5)\n",
    "# plt.plot(xy_start[0],xy_start[1],'bo',color='red', markersize=10, label='start')\n",
    "# plt.plot(xy_goal[0], xy_goal[1],'bo',color='green', markersize=10, label='goal')\n",
    "# plt.legend()"
   ]
  },
  {
   "cell_type": "code",
   "execution_count": 62,
   "id": "0631307f",
   "metadata": {},
   "outputs": [],
   "source": [
    "def draw_gradient(f, nrows=600, ncols=600):\n",
    "    skip = 5\n",
    "    [x_m, y_m] = np.meshgrid(np.linspace(0, 600, ncols), np.linspace(0, 600, nrows))\n",
    "    [gy, gx] = np.gradient(-f);\n",
    "    Q = plt.quiver(x_m[::skip, ::skip], y_m[::skip, ::skip], gx[::skip, ::skip], gy[::skip, ::skip])"
   ]
  },
  {
   "cell_type": "code",
   "execution_count": null,
   "id": "221d4120",
   "metadata": {},
   "outputs": [],
   "source": []
  }
 ],
 "metadata": {
  "kernelspec": {
   "display_name": "Python 3",
   "language": "python",
   "name": "python3"
  },
  "language_info": {
   "codemirror_mode": {
    "name": "ipython",
    "version": 3
   },
   "file_extension": ".py",
   "mimetype": "text/x-python",
   "name": "python",
   "nbconvert_exporter": "python",
   "pygments_lexer": "ipython3",
   "version": "3.8.5"
  }
 },
 "nbformat": 4,
 "nbformat_minor": 5
}
