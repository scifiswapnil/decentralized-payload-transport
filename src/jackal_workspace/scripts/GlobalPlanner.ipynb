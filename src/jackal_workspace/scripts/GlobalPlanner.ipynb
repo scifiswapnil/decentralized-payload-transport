{
 "cells": [
  {
   "cell_type": "code",
   "execution_count": 1,
   "id": "2decc71e",
   "metadata": {},
   "outputs": [],
   "source": [
    "import cv2 \n",
    "import math\n",
    "import time\n",
    "import rospy\n",
    "import tf2_ros\n",
    "import numpy as np\n",
    "from PIL import Image\n",
    "import tf2_geometry_msgs  \n",
    "import random\n",
    "from matplotlib import path\n",
    "from nav_msgs.msg import Path\n",
    "from scipy import interpolate\n",
    "from numpy.linalg import norm\n",
    "import matplotlib.pyplot as plt\n",
    "from nav_msgs.msg import Odometry\n",
    "from scipy.spatial import ConvexHull\n",
    "import matplotlib.patches as patches\n",
    "from nav_msgs.msg import OccupancyGrid\n",
    "from geometry_msgs.msg import PoseStamped\n",
    "from matplotlib.patches import Polygon\n",
    "from geometry_msgs.msg import PoseStamped\n",
    "from scipy.ndimage.morphology import distance_transform_edt as bwdist"
   ]
  },
  {
   "cell_type": "code",
   "execution_count": 2,
   "id": "6e1107fb",
   "metadata": {},
   "outputs": [],
   "source": [
    "res_remap = 0.01\n",
    "map_x = 0.0\n",
    "itra = 10\n",
    "map_y = 0.0\n",
    "map_org_x = 0.0\n",
    "map_org_y = 0.0\n",
    "map_res = 0.0\n",
    "mapdata = None\n",
    "orgmapdata = None\n",
    "xy_start = None\n",
    "path_pub = None\n",
    "map_rec = False"
   ]
  },
  {
   "cell_type": "markdown",
   "id": "50200e0b",
   "metadata": {},
   "source": [
    "Helper Functions"
   ]
  },
  {
   "cell_type": "code",
   "execution_count": 3,
   "id": "878a77e2",
   "metadata": {},
   "outputs": [],
   "source": [
    "def meters2grid(pose_m):\n",
    "    if np.isscalar(pose_m):\n",
    "        print(\"meters2grid scalar version used\")\n",
    "        pose_on_grid = int( pose_m / map_res + map_org_x )\n",
    "    else:\n",
    "        pose_on_grid = np.array((np.array(pose_m) - [map_org_x, -map_org_y])/ map_res, dtype=int)\n",
    "    pose_on_grid[1] = -map_org_y - pose_on_grid[1] \n",
    "    return pose_on_grid"
   ]
  },
  {
   "cell_type": "code",
   "execution_count": 4,
   "id": "ed51bfd6",
   "metadata": {},
   "outputs": [],
   "source": [
    "def grid2meters(pose_grid):\n",
    "    if np.isscalar(pose_grid):\n",
    "        pose_meters = (pose_grid * map_res + map_org_x)\n",
    "        print(\"grid2meters scalar version used\")\n",
    "    else:\n",
    "        pose_meters = ( np.array(pose_grid)* map_res + np.array([map_org_x,map_org_y]) )\n",
    "    pose_meters[:,1] = -pose_meters[:,1]\n",
    "    return pose_meters"
   ]
  },
  {
   "cell_type": "code",
   "execution_count": 5,
   "id": "5987f20e",
   "metadata": {},
   "outputs": [],
   "source": [
    "def get_line(x1, y1, x2, y2):\n",
    "    x1 = int(x1)\n",
    "    y1 = int(y1)\n",
    "    x2 = int(x2)\n",
    "    y2 = int(y2)\n",
    "    points = []\n",
    "    issteep = abs(y2-y1) > abs(x2-x1)\n",
    "    if issteep:\n",
    "        x1, y1 = y1, x1\n",
    "        x2, y2 = y2, x2\n",
    "    rev = False\n",
    "    if x1 > x2:\n",
    "        x1, x2 = x2, x1\n",
    "        y1, y2 = y2, y1\n",
    "        rev = True\n",
    "    deltax = x2 - x1\n",
    "    deltay = abs(y2-y1)\n",
    "    error = int(deltax / 2)\n",
    "    y = y1\n",
    "    ystep = None\n",
    "    if y1 < y2:\n",
    "        ystep = 1\n",
    "    else:\n",
    "        ystep = -1\n",
    "    for x in range(x1, x2 + 1):\n",
    "        if issteep:\n",
    "            points.append((y, x))\n",
    "        else:\n",
    "            points.append((x, y))\n",
    "        error -= deltay\n",
    "        if error < 0:\n",
    "            y += ystep\n",
    "            error += deltax\n",
    "    # Reverse the list if the coordinates were reversed\n",
    "    if rev:\n",
    "        points.reverse()\n",
    "    return points"
   ]
  },
  {
   "cell_type": "code",
   "execution_count": 6,
   "id": "65e7cdae",
   "metadata": {},
   "outputs": [],
   "source": [
    "def path_smoothing(path):\n",
    "    current_point = 0 \n",
    "    mapd = mapdata + orgmapdata\n",
    "    smoothedpath = []\n",
    "    smoothedpath.append([path[current_point][0],path[current_point][1]])\n",
    "    while (current_point <= len(path)):\n",
    "        org_current_point = current_point\n",
    "        for j in range(current_point,len(path)):\n",
    "            point_lists = get_line(path[current_point][0],path[current_point][1],path[j][0],path[j][1])\n",
    "            a = 0\n",
    "            for i in range(len(point_lists)):\n",
    "                if (mapd[point_lists[i][1],point_lists[i][0]] <= 0.0):\n",
    "                    a = 1\n",
    "                    current_point = j \n",
    "                    smoothedpath.append([path[j][0],path[j][1]])\n",
    "                    break\n",
    "            if (a == 1):\n",
    "                break\n",
    "        if (org_current_point == current_point):\n",
    "            break\n",
    "    smoothedpath.append([path[-1][0],path[-1][1]])\n",
    "    return smoothedpath"
   ]
  },
  {
   "cell_type": "markdown",
   "id": "674d282f",
   "metadata": {},
   "source": [
    "RRT path planner"
   ]
  },
  {
   "cell_type": "code",
   "execution_count": 7,
   "id": "88d79b26",
   "metadata": {},
   "outputs": [],
   "source": [
    "class RRT:\n",
    "    \"\"\"\n",
    "    Class for RRT planning\n",
    "    \"\"\"\n",
    "    class Node:\n",
    "        \"\"\"\n",
    "        RRT Node\n",
    "        \"\"\"\n",
    "        def __init__(self, x, y):\n",
    "            self.x = x\n",
    "            self.y = y\n",
    "            self.path_x = []\n",
    "            self.path_y = []\n",
    "            self.parent = None\n",
    "    def __init__(self,\n",
    "                 start,\n",
    "                 goal,\n",
    "                 map_grid,\n",
    "                 rand_area,\n",
    "                 expand_dis=100,\n",
    "                 path_resolution=10,\n",
    "                 goal_sample_rate=5,\n",
    "                 max_iter=5900):\n",
    "        \"\"\"\n",
    "        Setting Parameter\n",
    "        start:Start Position [x,y]\n",
    "        goal:Goal Position [x,y]\n",
    "        obstacleList:obstacle Positions [[x,y,size],...]\n",
    "        randArea:Random Sampling Area [min,max]\n",
    "        \"\"\"\n",
    "        self.start = self.Node(start[0], start[1])\n",
    "        self.end = self.Node(goal[0], goal[1])\n",
    "        self.min_rand = rand_area[0]\n",
    "        self.max_rand = rand_area[1]\n",
    "        self.expand_dis = expand_dis\n",
    "        self.path_resolution = path_resolution\n",
    "        self.goal_sample_rate = goal_sample_rate#\n",
    "        self.grid_map = map_grid\n",
    "        self.max_iter = max_iter\n",
    "        self.node_list = []\n",
    "\n",
    "    def planning(self, animation=True):\n",
    "        \"\"\"\n",
    "        rrt path planning\n",
    "\n",
    "        animation: flag for animation on or off\n",
    "        \"\"\"\n",
    "        self.node_list = [self.start]\n",
    "        for i in range(self.max_iter):\n",
    "            rnd_node = self.get_random_node()\n",
    "            nearest_ind = self.get_nearest_node_index(self.node_list, rnd_node)\n",
    "            nearest_node = self.node_list[nearest_ind]\n",
    "\n",
    "            new_node = self.steer(nearest_node, rnd_node, self.expand_dis)\n",
    "\n",
    "            if self.check_collision(new_node,self.grid_map):\n",
    "                self.node_list.append(new_node)\n",
    "\n",
    "            if animation and i % 5 == 0:\n",
    "                self.draw_graph(rnd_node)\n",
    "\n",
    "            if self.calc_dist_to_goal(self.node_list[-1].x,\n",
    "                                      self.node_list[-1].y) <= self.expand_dis:\n",
    "                final_node = self.steer(self.node_list[-1], self.end,\n",
    "                                        self.expand_dis)\n",
    "                if self.check_collision(final_node,self.grid_map):\n",
    "                    return self.generate_final_course(len(self.node_list) - 1)\n",
    "\n",
    "            if animation and i % 5:\n",
    "                self.draw_graph(rnd_node)\n",
    "\n",
    "        return None  # cannot find path\n",
    "\n",
    "    def steer(self, from_node, to_node, extend_length=float(\"inf\")):\n",
    "\n",
    "        new_node = self.Node(from_node.x, from_node.y)\n",
    "        d, theta = self.calc_distance_and_angle(new_node, to_node)\n",
    "\n",
    "        new_node.path_x = [new_node.x]\n",
    "        new_node.path_y = [new_node.y]\n",
    "\n",
    "        if extend_length > d:\n",
    "            extend_length = d\n",
    "\n",
    "        n_expand = math.floor(extend_length / self.path_resolution)\n",
    "\n",
    "        for _ in range(n_expand):\n",
    "            new_node.x += self.path_resolution * math.cos(theta)\n",
    "            new_node.y += self.path_resolution * math.sin(theta)\n",
    "            new_node.path_x.append(new_node.x)\n",
    "            new_node.path_y.append(new_node.y)\n",
    "\n",
    "        d, _ = self.calc_distance_and_angle(new_node, to_node)\n",
    "        if d <= self.path_resolution:\n",
    "            new_node.path_x.append(to_node.x)\n",
    "            new_node.path_y.append(to_node.y)\n",
    "            new_node.x = to_node.x\n",
    "            new_node.y = to_node.y\n",
    "\n",
    "        new_node.parent = from_node\n",
    "\n",
    "        return new_node\n",
    "\n",
    "    def generate_final_course(self, goal_ind):\n",
    "        path = [[self.end.x, self.end.y]]\n",
    "        node = self.node_list[goal_ind]\n",
    "        while node.parent is not None:\n",
    "            path.append([node.x, node.y])\n",
    "            node = node.parent\n",
    "        path.append([node.x, node.y])\n",
    "\n",
    "        return path\n",
    "\n",
    "    def calc_dist_to_goal(self, x, y):\n",
    "        dx = x - self.end.x\n",
    "        dy = y - self.end.y\n",
    "        return math.hypot(dx, dy)\n",
    "\n",
    "    def get_random_node(self):\n",
    "        if random.randint(0, 10) > self.goal_sample_rate:\n",
    "            rnd = self.Node(\n",
    "                int(random.uniform(self.min_rand, self.max_rand)),\n",
    "                int(random.uniform(self.min_rand, self.max_rand)))\n",
    "        else: \n",
    "            rnd = self.Node(self.end.x, self.end.y)\n",
    "        return rnd\n",
    "\n",
    "    def draw_graph(self, drawthis, rnd=None):\n",
    "        plt.figure(figsize=(10,10))\n",
    "        plt.clf()\n",
    "        plt.gcf().canvas.mpl_connect(\n",
    "            'key_release_event',\n",
    "            lambda event: [exit(0) if event.key == 'escape' else None])\n",
    "        if rnd is not None:\n",
    "            plt.plot(rnd.x, rnd.y, \"^k\")\n",
    "        for node in self.node_list:\n",
    "            if node.parent:\n",
    "                plt.plot(node.path_x, node.path_y, \"-g\")\n",
    "\n",
    "        plt.imshow(drawthis)\n",
    "        plt.plot(self.start.x, self.start.y, \"xr\")\n",
    "        plt.plot(self.end.x, self.end.y, \"xr\")\n",
    "        plt.grid(True)\n",
    "        plt.pause(0.0001)\n",
    "\n",
    "    @staticmethod\n",
    "    def get_nearest_node_index(node_list, rnd_node):\n",
    "        dlist = [(node.x - rnd_node.x)**2 + (node.y - rnd_node.y)**2\n",
    "                 for node in node_list]\n",
    "        minind = dlist.index(min(dlist))\n",
    "\n",
    "        return minind\n",
    "\n",
    "    @staticmethod\n",
    "    def check_collision(node,grid_map):\n",
    "        if node is None:\n",
    "            return False\n",
    "        if (grid_map[int(node.y),int(node.x)] != 0.0):\n",
    "            return True\n",
    "        else:\n",
    "            return False\n",
    "\n",
    "    @staticmethod\n",
    "    def calc_distance_and_angle(from_node, to_node):\n",
    "        dx = to_node.x - from_node.x\n",
    "        dy = to_node.y - from_node.y\n",
    "        d = math.hypot(dx, dy)\n",
    "        theta = math.atan2(dy, dx)\n",
    "        return d, theta"
   ]
  },
  {
   "cell_type": "markdown",
   "id": "63c89973",
   "metadata": {},
   "source": [
    "ROS Code"
   ]
  },
  {
   "cell_type": "code",
   "execution_count": 8,
   "id": "63410f51",
   "metadata": {
    "scrolled": false
   },
   "outputs": [
    {
     "data": {
      "text/plain": [
       "<rospy.topics.Subscriber at 0x7f750c59c9d0>"
      ]
     },
     "execution_count": 8,
     "metadata": {},
     "output_type": "execute_result"
    },
    {
     "data": {
      "image/png": "[encoded data removed]",
      "text/plain": [
       "<Figure size 720x720 with 1 Axes>"
      ]
     },
     "metadata": {
      "needs_background": "light"
     },
     "output_type": "display_data"
    },
    {
     "name": "stdout",
     "output_type": "stream",
     "text": [
      "found path!!\n"
     ]
    },
    {
     "data": {
      "image/png": "[encoded data removed]",
      "text/plain": [
       "<Figure size 720x720 with 1 Axes>"
      ]
     },
     "metadata": {
      "needs_background": "light"
     },
     "output_type": "display_data"
    },
    {
     "name": "stdout",
     "output_type": "stream",
     "text": [
      "found path!!\n"
     ]
    },
    {
     "data": {
      "image/png": "[encoded data removed]",
      "text/plain": [
       "<Figure size 720x720 with 1 Axes>"
      ]
     },
     "metadata": {
      "needs_background": "light"
     },
     "output_type": "display_data"
    },
    {
     "name": "stdout",
     "output_type": "stream",
     "text": [
      "found path!!\n"
     ]
    },
    {
     "data": {
      "image/png": "[encoded data removed]",
      "text/plain": [
       "<Figure size 720x720 with 1 Axes>"
      ]
     },
     "metadata": {
      "needs_background": "light"
     },
     "output_type": "display_data"
    },
    {
     "name": "stdout",
     "output_type": "stream",
     "text": [
      "found path!!\n"
     ]
    },
    {
     "data": {
      "image/png": "[encoded data removed]",
      "text/plain": [
       "<Figure size 720x720 with 1 Axes>"
      ]
     },
     "metadata": {
      "needs_background": "light"
     },
     "output_type": "display_data"
    }
   ],
   "source": [
    "def map_callback(data):\n",
    "    global mapdata\n",
    "    global orgmapdata\n",
    "    global map_x\n",
    "    global map_y\n",
    "    global map_org_x\n",
    "    global map_org_y\n",
    "    global map_res\n",
    "    global res_remap\n",
    "    global map_rec\n",
    "    global itra\n",
    "    \n",
    "    map_x = data.info.width\n",
    "    map_y = data.info.height\n",
    "    map_org_x = data.info.origin.position.x\n",
    "    map_org_y = data.info.origin.position.y\n",
    "    map_res = data.info.resolution\n",
    "    \n",
    "    mapdata = np.asarray(data.data).reshape(data.info.height,data.info.width).astype(np.uint8)\n",
    "    mapdata = np.flip(mapdata,0)\n",
    "    orgmapdata = mapdata\n",
    "    kernel = np.ones((int(res_remap*map_y),int(res_remap*map_x)),np.uint8)\n",
    "    mapdata = cv2.dilate(mapdata,kernel,iterations = itra)\n",
    "    mapdata = np.invert(mapdata)\n",
    "    mapdata = np.where(mapdata<250,0,mapdata)\n",
    "    plt.figure(figsize=(10,10))\n",
    "    plt.grid()\n",
    "    plt.imshow(mapdata)\n",
    "    plt.xlabel('X, m')\n",
    "    plt.ylabel('Y, m')\n",
    "    plt.show() \n",
    "    map_rec = True\n",
    "\n",
    "def callbackodom(data):\n",
    "    global xy_start\n",
    "    global map_rec\n",
    "    if (map_rec):\n",
    "        xy_start = data\n",
    "    \n",
    "def callbackgoal(data):\n",
    "    global xy_start\n",
    "    global path_pub\n",
    "    global orgpath\n",
    "    global ros_path\n",
    "    global path\n",
    "    tfbuffer = tf2_ros.Buffer()\n",
    "    listener = tf2_ros.TransformListener(tfbuffer)\n",
    "    t_a_b = tfbuffer.lookup_transform('map', xy_start.header.frame_id, rospy.Time(0), rospy.Duration(10.0))\n",
    "    xy_start.pose = tf2_geometry_msgs.do_transform_pose(xy_start.pose, t_a_b)\n",
    "    pose = tf2_geometry_msgs.do_transform_pose(data, t_a_b)\n",
    "    xy_start = meters2grid((xy_start.pose.pose.position.x, xy_start.pose.pose.position.y))\n",
    "    xy_goal = meters2grid((data.pose.position.x, data.pose.position.y))\n",
    "    rrt = RRT(\n",
    "        start=[xy_start[0],xy_start[1]],\n",
    "        goal=[xy_goal[0],xy_goal[1]],\n",
    "        rand_area=[100, 1400],\n",
    "        map_grid=mapdata,\n",
    "        expand_dis=15,\n",
    "        path_resolution=5,\n",
    "        goal_sample_rate=1,\n",
    "        max_iter=10000)\n",
    "    path = rrt.planning(animation=False)\n",
    "#     rrt.draw_graph(orgmapdata+mapdata)\n",
    "\n",
    "    if path is None:\n",
    "        print(\"Cannot find path\")\n",
    "    else:\n",
    "        print(\"found path!!\")\n",
    "        orgpath = path\n",
    "        plt.figure(figsize=(10,10))\n",
    "        plt.imshow(mapdata+orgmapdata)\n",
    "        decomp_X = []\n",
    "        decomp_Y = []\n",
    "        Sdecomp_X = []\n",
    "        Sdecomp_Y = []\n",
    "        smoothpath = path_smoothing(orgpath)\n",
    "        for i in range(len(orgpath)):\n",
    "            decomp_X.append(orgpath[i][0])\n",
    "            decomp_Y.append(orgpath[i][1])\n",
    "        for j in range(len(smoothpath)):\n",
    "            Sdecomp_X.append(smoothpath[j][0])\n",
    "            Sdecomp_Y.append(smoothpath[j][1])\n",
    "        if (len(Sdecomp_X) <= 2):\n",
    "            f, u = interpolate.splprep([Sdecomp_X,Sdecomp_Y],s=0.05,k=1)\n",
    "        else :\n",
    "            f, u = interpolate.splprep([Sdecomp_X,Sdecomp_Y],s=0.05,k=2)\n",
    "        xsmooth, ysmooth = interpolate.splev(np.linspace(0, 1.0, len(Sdecomp_X)*2), f)\n",
    "        ros_path = np.vstack((xsmooth,ysmooth))\n",
    "        \n",
    "        plt.plot(ros_path[0],ros_path[1],'bo--',linewidth=1, markersize=5)\n",
    "        plt.plot(decomp_X,decomp_Y,'go--',linewidth=1, markersize=5)\n",
    "        plt.plot(Sdecomp_X,Sdecomp_Y,'ro--',linewidth=1, markersize=5)\n",
    "        plt.show()\n",
    "        \n",
    "        rrtsmoothpath = Path()\n",
    "        rrtsmoothpath.header.frame_id = \"map\"\n",
    "        rrtsmoothpath.header.stamp = rospy.Time.now()\n",
    "        for i in range(len(ros_path[0])):\n",
    "            pose = PoseStamped()\n",
    "            ans = grid2meters([[ros_path[0][i],ros_path[1][i]]])[0]\n",
    "            pose.header = rrtsmoothpath.header\n",
    "            pose.pose.position.x = ans[0] \n",
    "            pose.pose.position.y = ans[1]\n",
    "            pose.pose.orientation.w = 1\n",
    "            rrtsmoothpath.poses.append(pose)            \n",
    "        path_pub.publish(rrtsmoothpath)\n",
    "\n",
    "rospy.init_node('GlobalPlanner', anonymous=True)\n",
    "path_pub = rospy.Publisher('/path', Path, queue_size=10)\n",
    "rospy.Subscriber(\"/map\", OccupancyGrid, map_callback)\n",
    "rospy.Subscriber(\"/jackal0/odometry/local_filtered\", Odometry, callbackodom)\n",
    "rospy.Subscriber(\"/jackal0/move_base_simple/goal\", PoseStamped, callbackgoal)"
   ]
  },
  {
   "cell_type": "markdown",
   "id": "6754481b",
   "metadata": {},
   "source": [
    "### Testing"
   ]
  },
  {
   "cell_type": "markdown",
   "id": "8b556e85",
   "metadata": {},
   "source": [
    "\n",
    "plt.figure(figsize=(15,15))\n",
    "plt.imshow(mapdata+orgmapdata)\n",
    "decomp_X = []\n",
    "decomp_Y = []\n",
    "Sdecomp_X = []\n",
    "Sdecomp_Y = []\n",
    "smoothpath = path_smoothing(orgpath)\n",
    "for i in range(len(orgpath)):\n",
    "    decomp_X.append(orgpath[i][0])\n",
    "    decomp_Y.append(orgpath[i][1])\n",
    "for j in range(len(smoothpath)):\n",
    "    Sdecomp_X.append(smoothpath[j][0])\n",
    "    Sdecomp_Y.append(smoothpath[j][1])\n",
    "f, u = interpolate.splprep([Sdecomp_X,Sdecomp_Y], s=0.1, k=2)\n",
    "xsmooth, ysmooth = interpolate.splev(np.linspace(0, 1.0, len(Sdecomp_X)*5), f)\n",
    "ros_path = np.vstack((\n",
    "    xsmooth,ysmooth))\n",
    "model2 = np.poly1d(np.polyfit(decomp_X,decomp_Y, 2))\n",
    "plt.plot(model2[0],model2[1],'b0--',linewidth=1, markersize=5)\n",
    "plt.plot(ros_path[0],ros_path[1],'bo--',linewidth=1, markersize=5)\n",
    "plt.plot(decomp_X,decomp_Y,'go--',linewidth=1, markersize=5)\n",
    "plt.plot(Sdecomp_X,Sdecomp_Y,'ro--',linewidth=1, markersize=5)\n",
    "plt.show()\n"
   ]
  },
  {
   "cell_type": "markdown",
   "id": "8bbdbbcd",
   "metadata": {},
   "source": [
    "## polyline = np.linspace(1, 15, 50)\n",
    "model2(polyline)"
   ]
  },
  {
   "cell_type": "markdown",
   "id": "7794a16c",
   "metadata": {},
   "source": [
    "def check_path_collision(s,e):\n",
    "    mapd = mapdata + orgmapdata\n",
    "    point_lists = get_line(path[s][0],path[s][1],path[e+1][0],path[e+1][1])\n",
    "    for i in range(len(point_lists)):\n",
    "        if (mapd[point_lists[i][1],point_lists[i][0]] == 0.0):\n",
    "            return True\n",
    "    return False"
   ]
  },
  {
   "cell_type": "markdown",
   "id": "07e85532",
   "metadata": {},
   "source": [
    "def path_smoothing_sec(path):\n",
    "    current_point = 0 \n",
    "    mapd = mapdata + orgmapdata\n",
    "    smoothedpath = []\n",
    "    smoothedpath.append([path[current_point][0],path[current_point][1]])\n",
    "    for i in range(0,len(path)):\n",
    "        for j in range(i,len(path)):\n",
    "            print (i,j)\n",
    "    return smoothedpath"
   ]
  },
  {
   "cell_type": "markdown",
   "id": "05603cb6",
   "metadata": {},
   "source": [
    "current_point = 0 \n",
    "while( current_point < len(path)):\n",
    "    for j in range(current_point,len(path)):\n",
    "        if (check_path_collision(current_point,j)):\n",
    "            print(\"bomb : \" + str(current_point) + \" :\"+str(j))\n",
    "            current_point = j \n",
    "            break"
   ]
  },
  {
   "cell_type": "markdown",
   "id": "66379b23",
   "metadata": {},
   "source": [
    "path"
   ]
  },
  {
   "cell_type": "markdown",
   "id": "e10cfae8",
   "metadata": {},
   "source": [
    "### Garbage"
   ]
  },
  {
   "cell_type": "markdown",
   "id": "655cf031",
   "metadata": {},
   "source": [
    "rrt = RRT(\n",
    "    start=[700,800],\n",
    "    goal=[905,700],\n",
    "    rand_area=[0, 1500],\n",
    "    map_grid=mapdata,\n",
    "    expand_dis=20,\n",
    "    path_resolution=5,\n",
    "    goal_sample_rate=1,\n",
    "    max_iter=10000)\n",
    "path = rrt.planning(animation=False)\n",
    "rrt.draw_graph()\n",
    "if path is None:\n",
    "    print(\"Cannot find path\")\n",
    "else:\n",
    "    print(\"found path!!\")\n"
   ]
  },
  {
   "cell_type": "markdown",
   "id": "de5d9a4c",
   "metadata": {},
   "source": [
    "smoothedpath = path_smoothing(path)\n",
    "print(smoothedpath)\n",
    "plt.imshow(mapdata)\n",
    "plt.plot([x for (x, y) in path], [y for (x, y) in path], '-r')\n",
    "plt.plot([x for (x, y) in smoothedpath], [\n",
    "    y for (x, y) in smoothedpath], '-g')\n",
    "plt.grid(True)\n",
    "plt.show()"
   ]
  },
  {
   "cell_type": "markdown",
   "id": "e2e61db3",
   "metadata": {},
   "source": [
    "x_start = meters2grid([0,0.8])\n",
    "x_goal = meters2grid([0,0.9522])\n",
    "plt.figure(figsize=(16,16))\n",
    "plt.grid()\n",
    "plt.imshow(map_grid)\n",
    "plt.xlabel('X, m')\n",
    "plt.ylabel('Y, m')\n",
    "plt.plot(x_start[0],x_start[1],'bo', markersize=5, label='start')\n",
    "plt.plot(x_goal[0],x_goal[1],'go', markersize=5, label='goal')\n",
    "plt.legend()\n",
    "plt.show()"
   ]
  },
  {
   "cell_type": "markdown",
   "id": "4a12fe60",
   "metadata": {},
   "source": [
    "map_x = odata.info.width\n",
    "map_y = odata.info.height\n",
    "map_org_x = odata.info.origin.position.x\n",
    "map_org_y = odata.info.origin.position.y\n",
    "map_res = odata.info.resolution\n",
    "res_remap = 0.05\n",
    "\n",
    "test = np.asarray(odata.data).reshape(odata.info.height,odata.info.width).astype(np.uint8)\n",
    "test = np.flip(test,0)\n",
    "kernel = np.ones((int(res_remap*map_y),int(res_remap*map_x)),np.uint8)\n",
    "test = cv2.dilate(test,kernel,iterations = 1)\n",
    "test = np.invert(test)\n",
    "test = np.where(test<250,0,test)\n",
    "plt.figure(figsize=(15,15))\n",
    "plt.grid()\n",
    "plt.imshow(test)\n",
    "plt.xlabel('X, m')\n",
    "plt.ylabel('Y, m')\n",
    "plt.show() y\n",
    "cv2.imshow(\"window_name\", cv2.resize(test, (500,500), interpolation = cv2.INTER_AREA))\n",
    "cv2.waitKey(0) \n",
    "cv2.destroyAllWindows() "
   ]
  },
  {
   "cell_type": "markdown",
   "id": "89d1d3b1",
   "metadata": {},
   "source": [
    "plt.scatter(rrp[:,0], rrp[:,1])\n",
    "plt.plot(xint, yint)\n",
    "plt.show()\n",
    "plt.plot([x for (x, y) in ros_path], [y for (x, y) in ros_path], '-r')\n",
    "plt.grid(True)\n",
    "plt.show()"
   ]
  },
  {
   "cell_type": "markdown",
   "id": "8deff0ae",
   "metadata": {},
   "source": [
    "def get_line(x1, y1, x2, y2):\n",
    "    points = []\n",
    "    issteep = abs(y2-y1) > abs(x2-x1)\n",
    "    if issteep:\n",
    "        x1, y1 = y1, x1\n",
    "        x2, y2 = y2, x2\n",
    "    rev = False\n",
    "    if x1 > x2:\n",
    "        x1, x2 = x2, x1\n",
    "        y1, y2 = y2, y1\n",
    "        rev = True\n",
    "    deltax = x2 - x1\n",
    "    deltay = abs(y2-y1)\n",
    "    error = int(deltax / 2)\n",
    "    y = y1\n",
    "    ystep = None\n",
    "    if y1 < y2:\n",
    "        ystep = 1\n",
    "    else:\n",
    "        ystep = -1\n",
    "    for x in range(x1, x2 + 1):\n",
    "        if issteep:\n",
    "            points.append((y, x))\n",
    "        else:\n",
    "            points.append((x, y))\n",
    "        error -= deltay\n",
    "        if error < 0:\n",
    "            y += ystep\n",
    "            error += deltax\n",
    "    # Reverse the list if the coordinates were reversed\n",
    "    if rev:\n",
    "        points.reverse()\n",
    "    return points\n"
   ]
  },
  {
   "cell_type": "markdown",
   "id": "c5b57534",
   "metadata": {},
   "source": [
    "get_line(0,0,10,100)"
   ]
  },
  {
   "cell_type": "markdown",
   "id": "04b21279",
   "metadata": {},
   "source": [
    "map_x = 1536.0 # in pixels\n",
    "map_y = 992.0 # in pixels\n",
    "map_org_x = -20.88\n",
    "map_org_y = -10.0\n",
    "map_res = 0.019999999552965164 # in meters\n",
    "res_remap = 0.05\n",
    "\n",
    "im = Image.open(\"/home/scifiswapnil/Desktop/jackal_ws/src/jackal_workspace/map/stage_two.pgm\")\n",
    "map_grid = np.asarray(im)\n",
    "plt.figure(figsize=(16,16))\n",
    "plt.grid()\n",
    "plt.imshow(map_grid)\n",
    "plt.xlabel('X, m')\n",
    "plt.ylabel('Y, m')\n",
    "plt.show()\n",
    "map_grid = np.where(map_grid<250, map_grid,255)\n",
    "map_grid = np.where(map_grid>205, map_grid, 0)\n",
    "map_grid = np.invert(map_grid)\n",
    "kernel = np.ones((int(res_remap*map_y),int(res_remap*map_x)),np.uint8)\n",
    "map_grid = cv2.dilate(map_grid,kernel,iterations = 1)\n",
    "map_grid = np.invert(map_grid)\n",
    "\n",
    "cv2.imshow(\"window_name\", cv2.resize(map_grid, (500,500), interpolation = cv2.INTER_AREA))\n",
    "cv2.waitKey(0) \n",
    "cv2.destroyAllWindows() \n",
    "\n",
    "print(map_grid.size)\n",
    "print(map_x*map_y)\n",
    "print(\"------------------------\")\n",
    "print(\"pixel space x = \",map_x)\n",
    "print(\"pixel space y = \",map_y)\n",
    "print(\"pixel space resolution = \",map_res,\"meters per pixel\")\n",
    "print(\"pixel space origin = 0,0 (top left corner)\")\n",
    "print(\"------------------------\")\n",
    "print(\"in mtrs real world min x = \",-((map_x*map_res))/2)\n",
    "print(\"in mtrs real world max x = \",((map_x*map_res))/2)\n",
    "print(\"in mtrs real world min y = \",-((map_y*map_res))/2)\n",
    "print(\"in mtrs real world max y = \",((map_y*map_res))/2)\n",
    "print(\"------------------------\")\n",
    "plt.figure(figsize=(16,16))\n",
    "plt.grid()\n",
    "plt.imshow(map_grid)\n",
    "plt.xlabel('X, m')\n",
    "plt.ylabel('Y, m')\n",
    "plt.show()"
   ]
  }
 ],
 "metadata": {
  "kernelspec": {
   "display_name": "Python 3",
   "language": "python",
   "name": "python3"
  },
  "language_info": {
   "codemirror_mode": {
    "name": "ipython",
    "version": 3
   },
   "file_extension": ".py",
   "mimetype": "text/x-python",
   "name": "python",
   "nbconvert_exporter": "python",
   "pygments_lexer": "ipython3",
   "version": "3.8.5"
  }
 },
 "nbformat": 4,
 "nbformat_minor": 5
}
